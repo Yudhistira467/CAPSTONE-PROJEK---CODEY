{
 "cells": [
  {
   "cell_type": "markdown",
   "metadata": {},
   "source": [
    "## Import Library"
   ]
  },
  {
   "cell_type": "code",
   "execution_count": 67,
   "metadata": {},
   "outputs": [],
   "source": [
    "import pandas as pd\n",
    "import re"
   ]
  },
  {
   "cell_type": "markdown",
   "metadata": {},
   "source": [
    "## Load data"
   ]
  },
  {
   "cell_type": "code",
   "execution_count": 68,
   "metadata": {},
   "outputs": [
    {
     "data": {
      "text/html": [
       "<div>\n",
       "<style scoped>\n",
       "    .dataframe tbody tr th:only-of-type {\n",
       "        vertical-align: middle;\n",
       "    }\n",
       "\n",
       "    .dataframe tbody tr th {\n",
       "        vertical-align: top;\n",
       "    }\n",
       "\n",
       "    .dataframe thead th {\n",
       "        text-align: right;\n",
       "    }\n",
       "</style>\n",
       "<table border=\"1\" class=\"dataframe\">\n",
       "  <thead>\n",
       "    <tr style=\"text-align: right;\">\n",
       "      <th></th>\n",
       "      <th>Instruction</th>\n",
       "      <th>Input</th>\n",
       "      <th>Output</th>\n",
       "      <th>materi</th>\n",
       "      <th>question_id</th>\n",
       "    </tr>\n",
       "  </thead>\n",
       "  <tbody>\n",
       "    <tr>\n",
       "      <th>0</th>\n",
       "      <td>Generate a function in Python to convert a giv...</td>\n",
       "      <td>17</td>\n",
       "      <td>def convertToBinary(n): \\n  \\n    if n &gt; 1: \\n...</td>\n",
       "      <td>Function</td>\n",
       "      <td>14</td>\n",
       "    </tr>\n",
       "    <tr>\n",
       "      <th>1</th>\n",
       "      <td>Create a function in Python to compute a Fibon...</td>\n",
       "      <td>10</td>\n",
       "      <td>def fibonacci(n): \\n if n &lt; 0: \\n  print(\"Inco...</td>\n",
       "      <td>Function</td>\n",
       "      <td>18</td>\n",
       "    </tr>\n",
       "    <tr>\n",
       "      <th>2</th>\n",
       "      <td>Construct a function that will find the value ...</td>\n",
       "      <td>dictionary = {'key1':1, 'key2':2, 'key3':3}\\nk...</td>\n",
       "      <td>def find_value(dictionary, key):\\n    value = ...</td>\n",
       "      <td>Function</td>\n",
       "      <td>21</td>\n",
       "    </tr>\n",
       "    <tr>\n",
       "      <th>3</th>\n",
       "      <td>Design a Python function that converts strings...</td>\n",
       "      <td>This is an example sentence</td>\n",
       "      <td>def convertToCapitalize(sentence)\\n    words =...</td>\n",
       "      <td>Function</td>\n",
       "      <td>25</td>\n",
       "    </tr>\n",
       "    <tr>\n",
       "      <th>4</th>\n",
       "      <td>Create an AWS Lambda function in Python that a...</td>\n",
       "      <td>{\\n \"x\": 10,\\n \"y\": 20\\n}</td>\n",
       "      <td>import json\\n\\ndef handler(event, context):\\n ...</td>\n",
       "      <td>Function</td>\n",
       "      <td>52</td>\n",
       "    </tr>\n",
       "  </tbody>\n",
       "</table>\n",
       "</div>"
      ],
      "text/plain": [
       "                                         Instruction  \\\n",
       "0  Generate a function in Python to convert a giv...   \n",
       "1  Create a function in Python to compute a Fibon...   \n",
       "2  Construct a function that will find the value ...   \n",
       "3  Design a Python function that converts strings...   \n",
       "4  Create an AWS Lambda function in Python that a...   \n",
       "\n",
       "                                               Input  \\\n",
       "0                                                 17   \n",
       "1                                                 10   \n",
       "2  dictionary = {'key1':1, 'key2':2, 'key3':3}\\nk...   \n",
       "3                        This is an example sentence   \n",
       "4                          {\\n \"x\": 10,\\n \"y\": 20\\n}   \n",
       "\n",
       "                                              Output    materi  question_id  \n",
       "0  def convertToBinary(n): \\n  \\n    if n > 1: \\n...  Function           14  \n",
       "1  def fibonacci(n): \\n if n < 0: \\n  print(\"Inco...  Function           18  \n",
       "2  def find_value(dictionary, key):\\n    value = ...  Function           21  \n",
       "3  def convertToCapitalize(sentence)\\n    words =...  Function           25  \n",
       "4  import json\\n\\ndef handler(event, context):\\n ...  Function           52  "
      ]
     },
     "execution_count": 68,
     "metadata": {},
     "output_type": "execute_result"
    }
   ],
   "source": [
    "file_path = r'C:\\Users\\user\\CAPSTONE-PROJEK---CODEY\\Machine Learning\\kategori soal\\function.csv'\n",
    "\n",
    "data = pd.read_csv(file_path)\n",
    "\n",
    "data.head()"
   ]
  },
  {
   "cell_type": "code",
   "execution_count": 69,
   "metadata": {},
   "outputs": [],
   "source": [
    "def add_placeholder(code):\n",
    "    \"\"\"\n",
    "    Gantikan bagian tertentu dalam kode dengan placeholder '___', kecuali jika baris mengandung 'print'.\n",
    "    \"\"\"\n",
    "    # Pisahkan kode menjadi baris-baris\n",
    "    lines = code.split('\\n')\n",
    "    \n",
    "    # Pola regex yang akan dicari\n",
    "    patterns = [\n",
    "        r'def\\s+\\w+\\s*\\(.*\\)\\s*:',  # Deklarasi fungsi\n",
    "        r'\\w+\\s*\\(.*\\)',             # Pemanggilan fungsi\n",
    "        r'\\(\\s*(\\w+\\s*,\\s*)*\\w+\\s*\\)',  # Fungsi dengan parameter\n",
    "        r'def\\s+\\w+\\(\\)\\s*:',        # Fungsi tanpa parameter\n",
    "    ]\n",
    "    \n",
    "    # Ganti baris yang cocok dengan pola menjadi '___', kecuali jika mengandung 'print'\n",
    "    for i, line in enumerate(lines):\n",
    "        # Cek apakah baris mengandung kata 'print'\n",
    "        if 'print' not in line:\n",
    "            for pattern in patterns:\n",
    "                if re.search(pattern, line):\n",
    "                    lines[i] = re.sub(pattern, '___', line)  # Ganti dengan placeholder '___'\n",
    "    \n",
    "    # Gabungkan kembali baris-baris menjadi satu string\n",
    "    return \"\\n\".join(lines)\n"
   ]
  },
  {
   "cell_type": "markdown",
   "metadata": {},
   "source": [
    "Menambah kolom Template untuk soal "
   ]
  },
  {
   "cell_type": "code",
   "execution_count": 70,
   "metadata": {},
   "outputs": [
    {
     "name": "stdout",
     "output_type": "stream",
     "text": [
      "def convertToBinary___: \n",
      "  \n",
      "    if n > 1: \n",
      "        ___ \n",
      "  \n",
      "    print(n % 2,end = '') \n",
      "  \n",
      "\n",
      "# driver code \n",
      "num = 17\n",
      "convertToBinary___\n",
      "def convertToBinary(n): \n",
      "  \n",
      "    if n > 1: \n",
      "        convertToBinary(n//2) \n",
      "  \n",
      "    print(n % 2,end = '') \n",
      "  \n",
      "\n",
      "# driver code \n",
      "num = 17\n",
      "convertToBinary(num)\n"
     ]
    }
   ],
   "source": [
    "# Terapkan fungsi pada kolom 'Full Code'\n",
    "data['Template'] = data['Output'].apply(add_placeholder)\n",
    "print(data['Template'][0])\n",
    "print(data['Output'][0])"
   ]
  },
  {
   "cell_type": "markdown",
   "metadata": {},
   "source": [
    "Membuat fungsi untuk mengecek data soal memiliki placeholder"
   ]
  },
  {
   "cell_type": "code",
   "execution_count": 71,
   "metadata": {},
   "outputs": [],
   "source": [
    "def check_placeholder_in_column(df, column_name, placeholder=\"___\"):\n",
    "    \"\"\"\n",
    "    Cek apakah kolom tertentu dalam DataFrame mengandung placeholder.\n",
    "    \n",
    "    Args:\n",
    "        df (pd.DataFrame): DataFrame yang akan dicek.\n",
    "        column_name (str): Nama kolom yang akan diperiksa.\n",
    "        placeholder (str): Placeholder yang dicari (default: \"___\").\n",
    "    \n",
    "    Returns:\n",
    "        pd.Series: Kolom boolean (True jika ada placeholder, False jika tidak).\n",
    "    \"\"\"\n",
    "    return df[column_name].str.contains(placeholder, na=False)\n"
   ]
  },
  {
   "cell_type": "code",
   "execution_count": 72,
   "metadata": {},
   "outputs": [
    {
     "name": "stdout",
     "output_type": "stream",
     "text": [
      "has_placeholder\n",
      "True     497\n",
      "False     15\n",
      "Name: count, dtype: int64\n"
     ]
    }
   ],
   "source": [
    "data[\"has_placeholder\"] = check_placeholder_in_column(data, \"Template\")\n",
    "\n",
    "print(data[\"has_placeholder\"].value_counts())"
   ]
  },
  {
   "cell_type": "code",
   "execution_count": 73,
   "metadata": {},
   "outputs": [
    {
     "name": "stdout",
     "output_type": "stream",
     "text": [
      "has_placeholder\n",
      "True    497\n",
      "Name: count, dtype: int64\n"
     ]
    }
   ],
   "source": [
    "# Hapus baris dengan nilai False\n",
    "data = data[data[\"has_placeholder\"]]\n",
    "\n",
    "print(data[\"has_placeholder\"].value_counts())\n",
    "\n",
    "# Hapus kolom 'has_placeholder' jika tidak diperlukan lagi\n",
    "data = data.drop(columns=[\"has_placeholder\"])\n"
   ]
  },
  {
   "cell_type": "markdown",
   "metadata": {},
   "source": [
    "## Save Data"
   ]
  },
  {
   "cell_type": "code",
   "execution_count": 74,
   "metadata": {},
   "outputs": [],
   "source": [
    "# Simpan dataset yang telah diproses\n",
    "data.to_csv('Function_with_placeholders.csv', index=False)"
   ]
  },
  {
   "cell_type": "code",
   "execution_count": 75,
   "metadata": {},
   "outputs": [
    {
     "data": {
      "text/html": [
       "<div>\n",
       "<style scoped>\n",
       "    .dataframe tbody tr th:only-of-type {\n",
       "        vertical-align: middle;\n",
       "    }\n",
       "\n",
       "    .dataframe tbody tr th {\n",
       "        vertical-align: top;\n",
       "    }\n",
       "\n",
       "    .dataframe thead th {\n",
       "        text-align: right;\n",
       "    }\n",
       "</style>\n",
       "<table border=\"1\" class=\"dataframe\">\n",
       "  <thead>\n",
       "    <tr style=\"text-align: right;\">\n",
       "      <th></th>\n",
       "      <th>Instruction</th>\n",
       "      <th>Input</th>\n",
       "      <th>Output</th>\n",
       "      <th>materi</th>\n",
       "      <th>question_id</th>\n",
       "      <th>Template</th>\n",
       "    </tr>\n",
       "  </thead>\n",
       "  <tbody>\n",
       "    <tr>\n",
       "      <th>0</th>\n",
       "      <td>Generate a function in Python to convert a giv...</td>\n",
       "      <td>17</td>\n",
       "      <td>def convertToBinary(n): \\n  \\n    if n &gt; 1: \\n...</td>\n",
       "      <td>Function</td>\n",
       "      <td>14</td>\n",
       "      <td>def convertToBinary___: \\n  \\n    if n &gt; 1: \\n...</td>\n",
       "    </tr>\n",
       "    <tr>\n",
       "      <th>1</th>\n",
       "      <td>Create a function in Python to compute a Fibon...</td>\n",
       "      <td>10</td>\n",
       "      <td>def fibonacci(n): \\n if n &lt; 0: \\n  print(\"Inco...</td>\n",
       "      <td>Function</td>\n",
       "      <td>18</td>\n",
       "      <td>def fibonacci___: \\n if n &lt; 0: \\n  print(\"Inco...</td>\n",
       "    </tr>\n",
       "    <tr>\n",
       "      <th>2</th>\n",
       "      <td>Construct a function that will find the value ...</td>\n",
       "      <td>dictionary = {'key1':1, 'key2':2, 'key3':3}\\nk...</td>\n",
       "      <td>def find_value(dictionary, key):\\n    value = ...</td>\n",
       "      <td>Function</td>\n",
       "      <td>21</td>\n",
       "      <td>def find_value___:\\n    value = dictionary.get...</td>\n",
       "    </tr>\n",
       "    <tr>\n",
       "      <th>3</th>\n",
       "      <td>Design a Python function that converts strings...</td>\n",
       "      <td>This is an example sentence</td>\n",
       "      <td>def convertToCapitalize(sentence)\\n    words =...</td>\n",
       "      <td>Function</td>\n",
       "      <td>25</td>\n",
       "      <td>def convertToCapitalize___\\n    words = senten...</td>\n",
       "    </tr>\n",
       "    <tr>\n",
       "      <th>4</th>\n",
       "      <td>Create an AWS Lambda function in Python that a...</td>\n",
       "      <td>{\\n \"x\": 10,\\n \"y\": 20\\n}</td>\n",
       "      <td>import json\\n\\ndef handler(event, context):\\n ...</td>\n",
       "      <td>Function</td>\n",
       "      <td>52</td>\n",
       "      <td>import json\\n\\ndef handler___:\\n x = event[\"x\"...</td>\n",
       "    </tr>\n",
       "  </tbody>\n",
       "</table>\n",
       "</div>"
      ],
      "text/plain": [
       "                                         Instruction  \\\n",
       "0  Generate a function in Python to convert a giv...   \n",
       "1  Create a function in Python to compute a Fibon...   \n",
       "2  Construct a function that will find the value ...   \n",
       "3  Design a Python function that converts strings...   \n",
       "4  Create an AWS Lambda function in Python that a...   \n",
       "\n",
       "                                               Input  \\\n",
       "0                                                 17   \n",
       "1                                                 10   \n",
       "2  dictionary = {'key1':1, 'key2':2, 'key3':3}\\nk...   \n",
       "3                        This is an example sentence   \n",
       "4                          {\\n \"x\": 10,\\n \"y\": 20\\n}   \n",
       "\n",
       "                                              Output    materi  question_id  \\\n",
       "0  def convertToBinary(n): \\n  \\n    if n > 1: \\n...  Function           14   \n",
       "1  def fibonacci(n): \\n if n < 0: \\n  print(\"Inco...  Function           18   \n",
       "2  def find_value(dictionary, key):\\n    value = ...  Function           21   \n",
       "3  def convertToCapitalize(sentence)\\n    words =...  Function           25   \n",
       "4  import json\\n\\ndef handler(event, context):\\n ...  Function           52   \n",
       "\n",
       "                                            Template  \n",
       "0  def convertToBinary___: \\n  \\n    if n > 1: \\n...  \n",
       "1  def fibonacci___: \\n if n < 0: \\n  print(\"Inco...  \n",
       "2  def find_value___:\\n    value = dictionary.get...  \n",
       "3  def convertToCapitalize___\\n    words = senten...  \n",
       "4  import json\\n\\ndef handler___:\\n x = event[\"x\"...  "
      ]
     },
     "execution_count": 75,
     "metadata": {},
     "output_type": "execute_result"
    }
   ],
   "source": [
    "data.head()"
   ]
  },
  {
   "cell_type": "markdown",
   "metadata": {},
   "source": []
  }
 ],
 "metadata": {
  "kernelspec": {
   "display_name": "Python 3",
   "language": "python",
   "name": "python3"
  },
  "language_info": {
   "codemirror_mode": {
    "name": "ipython",
    "version": 3
   },
   "file_extension": ".py",
   "mimetype": "text/x-python",
   "name": "python",
   "nbconvert_exporter": "python",
   "pygments_lexer": "ipython3",
   "version": "3.11.0"
  }
 },
 "nbformat": 4,
 "nbformat_minor": 2
}
