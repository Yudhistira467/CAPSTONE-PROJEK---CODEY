{
 "cells": [
  {
   "cell_type": "code",
   "execution_count": 21,
   "metadata": {},
   "outputs": [],
   "source": [
    "# import json\n",
    "# import pandas as pd\n",
    "\n",
    "# # Membaca file CSV\n",
    "# file_path = r'C:\\Users\\user\\CAPSTONE-PROJEK---CODEY\\Machine Learning\\data soal\\control structure\\control_structure_with_placeholders.csv'\n",
    "# data = pd.read_csv(file_path)\n",
    "\n",
    "# # Menyesuaikan struktur JSON berdasarkan contoh dari gambar\n",
    "# json_data = {\"quiz\": []}\n",
    "\n",
    "# # Membuat struktur JSON dengan key-value berdasarkan kolom di dataset\n",
    "# for _, row in data.iterrows():\n",
    "#     question_entry = {\n",
    "#         \"instruction\": row['Instruction'],\n",
    "#         \"question\": row['Template'],  # Menyesuaikan 'question' dengan kolom 'Output' dari CSV\n",
    "#         \"correct_answer\": row['Output']  # Menyesuaikan 'correct_answer' dengan kolom 'Output' dari CSV\n",
    "#     }\n",
    "#     json_data[\"quiz\"].append(question_entry)\n",
    "\n",
    "# # Menyimpan hasil JSON ke file\n",
    "# output_json_path = r'C:\\Users\\user\\CAPSTONE-PROJEK---CODEY\\Machine Learning\\data soal\\control structure\\control_structure_with_placeholders_csv.json'\n",
    "# with open(output_json_path, 'w') as json_file:\n",
    "#     json.dump(json_data, json_file, indent=4)\n",
    "\n",
    "# output_json_path\n"
   ]
  },
  {
   "cell_type": "code",
   "execution_count": null,
   "metadata": {},
   "outputs": [
    {
     "ename": "SyntaxError",
     "evalue": "invalid syntax (2009796863.py, line 25)",
     "output_type": "error",
     "traceback": [
      "\u001b[1;36m  Cell \u001b[1;32mIn[24], line 25\u001b[1;36m\u001b[0m\n\u001b[1;33m    \"instruction\": instruction,\u001b[0m\n\u001b[1;37m    ^\u001b[0m\n\u001b[1;31mSyntaxError\u001b[0m\u001b[1;31m:\u001b[0m invalid syntax\n"
     ]
    }
   ],
   "source": [
    "import json\n",
    "\n",
    "# Membuat struktur JSON\n",
    "json_data = {\"quiz\": []}\n",
    "\n",
    "for _, row in data.iterrows():\n",
    "    question_id = row['question_id']\n",
    "    materi = row['materi']\n",
    "    instruction = row['Instruction']\n",
    "    question = row['Template']\n",
    "    duration = 20\n",
    "    \n",
    "    # Menggunakan regex untuk mencari placeholder '___' dan menggantinya dengan 'if'\n",
    "    if '___' in question:\n",
    "        correct_answer = row['correct_answer'] # Hanya menampilkan pengganti dari placeholder\n",
    "    else:\n",
    "        correct_answer = \"\"  # Jika tidak ada placeholder ___\n",
    "\n",
    "    # Menambahkan ke struktur JSON\n",
    "    question_entry = {\n",
    "        \"question_id\": question_id,\n",
    "        \"material\": material,\n",
    "        \"instruction\": instruction,\n",
    "        \"question\": question,\n",
    "        \"correct_answer\": correct_answer,\n",
    "        \"duration\": duration\n",
    "    }\n",
    "    json_data[\"quiz\"].append(question_entry)\n",
    "\n",
    "# Menyimpan ke file JSON\n",
    "output_json_path = 'questions_control_structure.json'\n",
    "with open(output_json_path, 'w') as json_file:\n",
    "    json.dump(json_data, json_file, indent=4)\n",
    "\n",
    "print(f\"File JSON berhasil disimpan: {output_json_path}\")\n"
   ]
  },
  {
   "cell_type": "code",
   "execution_count": null,
   "metadata": {},
   "outputs": [],
   "source": []
  }
 ],
 "metadata": {
  "kernelspec": {
   "display_name": "Python 3",
   "language": "python",
   "name": "python3"
  },
  "language_info": {
   "codemirror_mode": {
    "name": "ipython",
    "version": 3
   },
   "file_extension": ".py",
   "mimetype": "text/x-python",
   "name": "python",
   "nbconvert_exporter": "python",
   "pygments_lexer": "ipython3",
   "version": "3.11.0"
  }
 },
 "nbformat": 4,
 "nbformat_minor": 2
}
