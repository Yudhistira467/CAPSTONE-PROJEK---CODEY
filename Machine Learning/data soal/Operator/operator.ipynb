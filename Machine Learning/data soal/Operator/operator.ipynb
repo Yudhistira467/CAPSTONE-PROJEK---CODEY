{
 "cells": [
  {
   "cell_type": "markdown",
   "metadata": {},
   "source": [
    "## Import Library"
   ]
  },
  {
   "cell_type": "code",
   "execution_count": 55,
   "metadata": {},
   "outputs": [],
   "source": [
    "import pandas as pd\n",
    "import re"
   ]
  },
  {
   "cell_type": "markdown",
   "metadata": {},
   "source": [
    "## Load Data"
   ]
  },
  {
   "cell_type": "code",
   "execution_count": 56,
   "metadata": {},
   "outputs": [
    {
     "data": {
      "text/html": [
       "<div>\n",
       "<style scoped>\n",
       "    .dataframe tbody tr th:only-of-type {\n",
       "        vertical-align: middle;\n",
       "    }\n",
       "\n",
       "    .dataframe tbody tr th {\n",
       "        vertical-align: top;\n",
       "    }\n",
       "\n",
       "    .dataframe thead th {\n",
       "        text-align: right;\n",
       "    }\n",
       "</style>\n",
       "<table border=\"1\" class=\"dataframe\">\n",
       "  <thead>\n",
       "    <tr style=\"text-align: right;\">\n",
       "      <th></th>\n",
       "      <th>Instruction</th>\n",
       "      <th>Input</th>\n",
       "      <th>Output</th>\n",
       "      <th>materi</th>\n",
       "      <th>question_id</th>\n",
       "    </tr>\n",
       "  </thead>\n",
       "  <tbody>\n",
       "    <tr>\n",
       "      <th>0</th>\n",
       "      <td>Create a for-loop in Python and use it to find...</td>\n",
       "      <td>[1, 4, 9, 16, 25]</td>\n",
       "      <td>total = 0\\nfor num in [1, 4, 9, 16, 25]:\\n  to...</td>\n",
       "      <td>Operator</td>\n",
       "      <td>60</td>\n",
       "    </tr>\n",
       "    <tr>\n",
       "      <th>1</th>\n",
       "      <td>Generate a Python program to remove a key-valu...</td>\n",
       "      <td>d = { 'a': 10, 'b': 20, 'c':30 }</td>\n",
       "      <td>def remove_pair(d, key):\\n if key in d:\\n del ...</td>\n",
       "      <td>Operator</td>\n",
       "      <td>78</td>\n",
       "    </tr>\n",
       "    <tr>\n",
       "      <th>2</th>\n",
       "      <td>Write a Python code to generate the Fibonacci ...</td>\n",
       "      <td>7</td>\n",
       "      <td>def fibonacciSequence(n): \\n    fibSequence = ...</td>\n",
       "      <td>Operator</td>\n",
       "      <td>104</td>\n",
       "    </tr>\n",
       "    <tr>\n",
       "      <th>3</th>\n",
       "      <td>Create a function to calculate the midpoint be...</td>\n",
       "      <td>point1 = [35.0, 43.0, 81.0]\\npoint2 = [82.0, 5...</td>\n",
       "      <td>def midpoint3D(point1, point2): \\n    x_mid = ...</td>\n",
       "      <td>Operator</td>\n",
       "      <td>115</td>\n",
       "    </tr>\n",
       "    <tr>\n",
       "      <th>4</th>\n",
       "      <td>Edit the given Python code to reverse the orde...</td>\n",
       "      <td>string = \"Hello World!\"</td>\n",
       "      <td>def reverse_string(string):\\n    reversed_stri...</td>\n",
       "      <td>Operator</td>\n",
       "      <td>127</td>\n",
       "    </tr>\n",
       "  </tbody>\n",
       "</table>\n",
       "</div>"
      ],
      "text/plain": [
       "                                         Instruction  \\\n",
       "0  Create a for-loop in Python and use it to find...   \n",
       "1  Generate a Python program to remove a key-valu...   \n",
       "2  Write a Python code to generate the Fibonacci ...   \n",
       "3  Create a function to calculate the midpoint be...   \n",
       "4  Edit the given Python code to reverse the orde...   \n",
       "\n",
       "                                               Input  \\\n",
       "0                                  [1, 4, 9, 16, 25]   \n",
       "1                   d = { 'a': 10, 'b': 20, 'c':30 }   \n",
       "2                                                  7   \n",
       "3  point1 = [35.0, 43.0, 81.0]\\npoint2 = [82.0, 5...   \n",
       "4                            string = \"Hello World!\"   \n",
       "\n",
       "                                              Output    materi  question_id  \n",
       "0  total = 0\\nfor num in [1, 4, 9, 16, 25]:\\n  to...  Operator           60  \n",
       "1  def remove_pair(d, key):\\n if key in d:\\n del ...  Operator           78  \n",
       "2  def fibonacciSequence(n): \\n    fibSequence = ...  Operator          104  \n",
       "3  def midpoint3D(point1, point2): \\n    x_mid = ...  Operator          115  \n",
       "4  def reverse_string(string):\\n    reversed_stri...  Operator          127  "
      ]
     },
     "execution_count": 56,
     "metadata": {},
     "output_type": "execute_result"
    }
   ],
   "source": [
    "\n",
    "file_path = 'C:/Users/user/CAPSTONE-PROJEK---CODEY/Machine Learning/kategori soal/operator.csv'\n",
    "\n",
    "data = pd.read_csv(file_path)\n",
    "data.head()\n"
   ]
  },
  {
   "cell_type": "code",
   "execution_count": 57,
   "metadata": {},
   "outputs": [],
   "source": [
    "def add_placeholder(code):\n",
    "    \"\"\"\n",
    "    Gantikan kata setelah kata kunci dengan placeholder '___'.\n",
    "    Hanya satu kali mengganti di seluruh kode setelah menemukan kecocokan pertama.\n",
    "    \"\"\"\n",
    "    # Pola regex untuk mencari kata kunci dan mengganti kata setelahnya dengan placeholder\n",
    "    patterns = [\n",
    "         r'\\b(==|!=|=)\\s+(\\w+)\\b'\n",
    "    ]\n",
    "    \n",
    "    # Cari kecocokan pertama dalam seluruh kode\n",
    "    for pattern in patterns:\n",
    "        match = re.search(pattern, code)\n",
    "        if match:\n",
    "            # Ganti kata setelah kata kunci dengan placeholder '___' pada kecocokan pertama\n",
    "            code = re.sub(pattern, r'\\1 ___', code, count=1)  # Hanya mengganti kecocokan pertama\n",
    "    \n",
    "    return code\n"
   ]
  },
  {
   "cell_type": "code",
   "execution_count": 58,
   "metadata": {},
   "outputs": [],
   "source": [
    "# def add_placeholder(code):\n",
    "#     \"\"\"\n",
    "#     Gantikan bagian tertentu dalam kode dengan placeholder '___', kecuali jika baris mengandung 'print'.\n",
    "#     \"\"\"\n",
    "#     # Pisahkan kode menjadi baris-baris\n",
    "#     lines = code.split('\\n')\n",
    "    \n",
    "#     # Pola regex yang akan dicari\n",
    "#     patterns = [\n",
    "#         r'\\b(+|-|*|/|%|**|==|!=|<|>|<=|>=|=)\\b'\n",
    "#     ]\n",
    "    \n",
    "#     # Ganti baris yang cocok dengan pola menjadi '___', kecuali jika mengandung '#'\n",
    "#     for i, line in enumerate(lines):\n",
    "#         # Cek apakah baris mengandung kata '#'\n",
    "#         if '#' not in line:\n",
    "#             for pattern in patterns:\n",
    "#                 if re.search(pattern, line):\n",
    "#                     lines[i] = re.sub(pattern, '___', line)  # Ganti dengan placeholder '___'\n",
    "    \n",
    "#     # Gabungkan kembali baris-baris menjadi satu string\n",
    "#     return \"\\n\".join(lines)\n"
   ]
  },
  {
   "cell_type": "markdown",
   "metadata": {},
   "source": [
    "Menambahkan kolom template untuk soal"
   ]
  },
  {
   "cell_type": "code",
   "execution_count": 59,
   "metadata": {},
   "outputs": [
    {
     "name": "stdout",
     "output_type": "stream",
     "text": [
      "String str = \"Ruby,Python,JavaScript\";\n",
      "List<String> list = Arrays.asList(str.split(\",\"));\n",
      "\n",
      "// Output \n",
      "// [Ruby,Python,JavaScript]\n",
      "String str = \"Ruby,Python,JavaScript\";\n",
      "List<String> list = Arrays.asList(str.split(\",\"));\n",
      "\n",
      "// Output \n",
      "// [Ruby,Python,JavaScript]\n"
     ]
    }
   ],
   "source": [
    "# Terapkan fungsi pada kolom 'Output'\n",
    "data['Template'] = data['Output'].apply(add_placeholder)\n",
    "print(data['Template'][16])\n",
    "print(data['Output'][16])\n"
   ]
  },
  {
   "cell_type": "markdown",
   "metadata": {},
   "source": [
    "Membuat fungsi untuk mengecek data soal memiliki placeholder"
   ]
  },
  {
   "cell_type": "code",
   "execution_count": 60,
   "metadata": {},
   "outputs": [],
   "source": [
    "def check_placeholder_in_column(df, column_name, placeholder=\"___\"):\n",
    "    \"\"\"\n",
    "    Cek apakah kolom tertentu dalam DataFrame mengandung placeholder.\n",
    "    \n",
    "    Args:\n",
    "        df (pd.DataFrame): DataFrame yang akan dicek.\n",
    "        column_name (str): Nama kolom yang akan diperiksa.\n",
    "        placeholder (str): Placeholder yang dicari (default: \"___\").\n",
    "    \n",
    "    Returns:\n",
    "        pd.Series: Kolom boolean (True jika ada placeholder, False jika tidak).\n",
    "    \"\"\"\n",
    "    return df[column_name].str.contains(placeholder, na=False)\n"
   ]
  },
  {
   "cell_type": "code",
   "execution_count": 61,
   "metadata": {},
   "outputs": [
    {
     "name": "stdout",
     "output_type": "stream",
     "text": [
      "has_placeholder\n",
      "False    287\n",
      "Name: count, dtype: int64\n"
     ]
    }
   ],
   "source": [
    "data[\"has_placeholder\"] = check_placeholder_in_column(data, \"Template\")\n",
    "\n",
    "print(data[\"has_placeholder\"].value_counts())"
   ]
  },
  {
   "cell_type": "code",
   "execution_count": 62,
   "metadata": {},
   "outputs": [],
   "source": [
    "# Hapus baris dengan nilai False\n",
    "data = data[data[\"has_placeholder\"]]\n"
   ]
  },
  {
   "cell_type": "code",
   "execution_count": 63,
   "metadata": {},
   "outputs": [
    {
     "name": "stdout",
     "output_type": "stream",
     "text": [
      "Series([], Name: count, dtype: int64)\n"
     ]
    }
   ],
   "source": [
    "print(data[\"has_placeholder\"].value_counts())\n",
    "\n",
    "# Hapus kolom 'has_placeholder' jika tidak diperlukan lagi\n",
    "data = data.drop(columns=[\"has_placeholder\"])\n"
   ]
  },
  {
   "cell_type": "markdown",
   "metadata": {},
   "source": [
    "## Save Data ke dalam csv"
   ]
  },
  {
   "cell_type": "code",
   "execution_count": 64,
   "metadata": {},
   "outputs": [],
   "source": [
    "# Simpan dataset yang telah diproses\n",
    "data.to_csv('Operator_with_placeholders.csv', index=False)"
   ]
  },
  {
   "cell_type": "code",
   "execution_count": 65,
   "metadata": {},
   "outputs": [
    {
     "data": {
      "text/html": [
       "<div>\n",
       "<style scoped>\n",
       "    .dataframe tbody tr th:only-of-type {\n",
       "        vertical-align: middle;\n",
       "    }\n",
       "\n",
       "    .dataframe tbody tr th {\n",
       "        vertical-align: top;\n",
       "    }\n",
       "\n",
       "    .dataframe thead th {\n",
       "        text-align: right;\n",
       "    }\n",
       "</style>\n",
       "<table border=\"1\" class=\"dataframe\">\n",
       "  <thead>\n",
       "    <tr style=\"text-align: right;\">\n",
       "      <th></th>\n",
       "      <th>Instruction</th>\n",
       "      <th>Input</th>\n",
       "      <th>Output</th>\n",
       "      <th>materi</th>\n",
       "      <th>question_id</th>\n",
       "      <th>Template</th>\n",
       "    </tr>\n",
       "  </thead>\n",
       "  <tbody>\n",
       "  </tbody>\n",
       "</table>\n",
       "</div>"
      ],
      "text/plain": [
       "Empty DataFrame\n",
       "Columns: [Instruction, Input, Output, materi, question_id, Template]\n",
       "Index: []"
      ]
     },
     "execution_count": 65,
     "metadata": {},
     "output_type": "execute_result"
    }
   ],
   "source": [
    "data.head()"
   ]
  },
  {
   "cell_type": "code",
   "execution_count": null,
   "metadata": {},
   "outputs": [],
   "source": []
  }
 ],
 "metadata": {
  "kernelspec": {
   "display_name": "Python 3",
   "language": "python",
   "name": "python3"
  },
  "language_info": {
   "codemirror_mode": {
    "name": "ipython",
    "version": 3
   },
   "file_extension": ".py",
   "mimetype": "text/x-python",
   "name": "python",
   "nbconvert_exporter": "python",
   "pygments_lexer": "ipython3",
   "version": "3.11.0"
  }
 },
 "nbformat": 4,
 "nbformat_minor": 2
}
