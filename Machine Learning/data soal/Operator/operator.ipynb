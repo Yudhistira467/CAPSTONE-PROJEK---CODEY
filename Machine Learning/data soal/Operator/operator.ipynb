{
 "cells": [
  {
   "cell_type": "markdown",
   "metadata": {},
   "source": [
    "## Import Library"
   ]
  },
  {
   "cell_type": "code",
   "execution_count": 1,
   "metadata": {},
   "outputs": [],
   "source": [
    "import pandas as pd\n",
    "import re"
   ]
  },
  {
   "cell_type": "markdown",
   "metadata": {},
   "source": [
    "## Load Data"
   ]
  },
  {
   "cell_type": "code",
   "execution_count": 2,
   "metadata": {},
   "outputs": [
    {
     "data": {
      "text/html": [
       "<div>\n",
       "<style scoped>\n",
       "    .dataframe tbody tr th:only-of-type {\n",
       "        vertical-align: middle;\n",
       "    }\n",
       "\n",
       "    .dataframe tbody tr th {\n",
       "        vertical-align: top;\n",
       "    }\n",
       "\n",
       "    .dataframe thead th {\n",
       "        text-align: right;\n",
       "    }\n",
       "</style>\n",
       "<table border=\"1\" class=\"dataframe\">\n",
       "  <thead>\n",
       "    <tr style=\"text-align: right;\">\n",
       "      <th></th>\n",
       "      <th>Instruction</th>\n",
       "      <th>Input</th>\n",
       "      <th>Output</th>\n",
       "      <th>materi</th>\n",
       "      <th>question_id</th>\n",
       "    </tr>\n",
       "  </thead>\n",
       "  <tbody>\n",
       "    <tr>\n",
       "      <th>0</th>\n",
       "      <td>Create a for-loop in Python and use it to find...</td>\n",
       "      <td>[1, 4, 9, 16, 25]</td>\n",
       "      <td>total = 0\\nfor num in [1, 4, 9, 16, 25]:\\n  to...</td>\n",
       "      <td>Operator</td>\n",
       "      <td>60</td>\n",
       "    </tr>\n",
       "    <tr>\n",
       "      <th>1</th>\n",
       "      <td>Generate a Python program to remove a key-valu...</td>\n",
       "      <td>d = { 'a': 10, 'b': 20, 'c':30 }</td>\n",
       "      <td>def remove_pair(d, key):\\n if key in d:\\n del ...</td>\n",
       "      <td>Operator</td>\n",
       "      <td>78</td>\n",
       "    </tr>\n",
       "    <tr>\n",
       "      <th>2</th>\n",
       "      <td>Write a Python code to generate the Fibonacci ...</td>\n",
       "      <td>7</td>\n",
       "      <td>def fibonacciSequence(n): \\n    fibSequence = ...</td>\n",
       "      <td>Operator</td>\n",
       "      <td>104</td>\n",
       "    </tr>\n",
       "    <tr>\n",
       "      <th>3</th>\n",
       "      <td>Create a function to calculate the midpoint be...</td>\n",
       "      <td>point1 = [35.0, 43.0, 81.0]\\npoint2 = [82.0, 5...</td>\n",
       "      <td>def midpoint3D(point1, point2): \\n    x_mid = ...</td>\n",
       "      <td>Operator</td>\n",
       "      <td>115</td>\n",
       "    </tr>\n",
       "    <tr>\n",
       "      <th>4</th>\n",
       "      <td>Edit the given Python code to reverse the orde...</td>\n",
       "      <td>string = \"Hello World!\"</td>\n",
       "      <td>def reverse_string(string):\\n    reversed_stri...</td>\n",
       "      <td>Operator</td>\n",
       "      <td>127</td>\n",
       "    </tr>\n",
       "  </tbody>\n",
       "</table>\n",
       "</div>"
      ],
      "text/plain": [
       "                                         Instruction  \\\n",
       "0  Create a for-loop in Python and use it to find...   \n",
       "1  Generate a Python program to remove a key-valu...   \n",
       "2  Write a Python code to generate the Fibonacci ...   \n",
       "3  Create a function to calculate the midpoint be...   \n",
       "4  Edit the given Python code to reverse the orde...   \n",
       "\n",
       "                                               Input  \\\n",
       "0                                  [1, 4, 9, 16, 25]   \n",
       "1                   d = { 'a': 10, 'b': 20, 'c':30 }   \n",
       "2                                                  7   \n",
       "3  point1 = [35.0, 43.0, 81.0]\\npoint2 = [82.0, 5...   \n",
       "4                            string = \"Hello World!\"   \n",
       "\n",
       "                                              Output    materi  question_id  \n",
       "0  total = 0\\nfor num in [1, 4, 9, 16, 25]:\\n  to...  Operator           60  \n",
       "1  def remove_pair(d, key):\\n if key in d:\\n del ...  Operator           78  \n",
       "2  def fibonacciSequence(n): \\n    fibSequence = ...  Operator          104  \n",
       "3  def midpoint3D(point1, point2): \\n    x_mid = ...  Operator          115  \n",
       "4  def reverse_string(string):\\n    reversed_stri...  Operator          127  "
      ]
     },
     "execution_count": 2,
     "metadata": {},
     "output_type": "execute_result"
    }
   ],
   "source": [
    "\n",
    "file_path = 'C:/Users/user/CAPSTONE-PROJEK---CODEY/Machine Learning/kategori soal/operator.csv'\n",
    "\n",
    "data = pd.read_csv(file_path)\n",
    "data.head()\n"
   ]
  },
  {
   "cell_type": "code",
   "execution_count": 3,
   "metadata": {},
   "outputs": [],
   "source": [
    "def replace_operators_with_placeholder(code):\n",
    "    \"\"\"\n",
    "    Gantikan semua operator dalam kode Python dengan placeholder '___',\n",
    "    kecuali jika baris mengandung simbol '''.\n",
    "    \"\"\"\n",
    "    import re\n",
    "\n",
    "    # Pola regex untuk operator\n",
    "    patterns = [\n",
    "        r'\\b\\+\\b|\\b\\-\\b|\\*|\\/|%|\\/\\/|\\*\\*',  # Operator aritmatika\n",
    "        r'==|!=|<=|>=|<|>',  # Operator perbandingan\n",
    "        r'\\bnot in\\b|\\bin\\b' ,                  # Operator keanggotaan\n",
    "        r'\\bis\\b|\\bis not\\b'                   # Operator identitas\n",
    "    ]\n",
    "\n",
    "    # Gabungkan pola menjadi satu regex\n",
    "    combined_pattern = '|'.join(f'(?:{pattern})' for pattern in patterns)\n",
    "\n",
    "    # Pisahkan kode menjadi baris\n",
    "    lines = code.split('\\n')\n",
    "    in_docstring = False  # Flag untuk melacak docstring\n",
    "\n",
    "    # Loop melalui setiap baris\n",
    "    for i, line in enumerate(lines):\n",
    "        # Deteksi awal/akhir blok docstring\n",
    "        if \"'''\" in line:\n",
    "            in_docstring = not in_docstring\n",
    "            continue  # Lewati baris dengan ''' sepenuhnya\n",
    "        \n",
    "        # Jika sedang dalam docstring, abaikan penggantian\n",
    "        if in_docstring:\n",
    "            continue\n",
    "\n",
    "        # Ganti operator dengan placeholder pada baris yang cocok\n",
    "        lines[i] = re.sub(combined_pattern, '___', line)\n",
    "\n",
    "    # Gabungkan kembali baris-baris menjadi string\n",
    "    return '\\n'.join(lines)\n"
   ]
  },
  {
   "cell_type": "markdown",
   "metadata": {},
   "source": [
    "Menambahkan kolom template untuk soal"
   ]
  },
  {
   "cell_type": "code",
   "execution_count": 4,
   "metadata": {},
   "outputs": [
    {
     "ename": "NameError",
     "evalue": "name 'add_placeholder' is not defined",
     "output_type": "error",
     "traceback": [
      "\u001b[1;31m---------------------------------------------------------------------------\u001b[0m",
      "\u001b[1;31mNameError\u001b[0m                                 Traceback (most recent call last)",
      "Cell \u001b[1;32mIn[4], line 2\u001b[0m\n\u001b[0;32m      1\u001b[0m \u001b[38;5;66;03m# Terapkan fungsi pada kolom 'Full Code'\u001b[39;00m\n\u001b[1;32m----> 2\u001b[0m data[\u001b[38;5;124m'\u001b[39m\u001b[38;5;124mTemplate\u001b[39m\u001b[38;5;124m'\u001b[39m] \u001b[38;5;241m=\u001b[39m data[\u001b[38;5;124m'\u001b[39m\u001b[38;5;124mOutput\u001b[39m\u001b[38;5;124m'\u001b[39m]\u001b[38;5;241m.\u001b[39mapply(\u001b[43madd_placeholder\u001b[49m)\n\u001b[0;32m      3\u001b[0m \u001b[38;5;28mprint\u001b[39m(data[\u001b[38;5;124m'\u001b[39m\u001b[38;5;124mTemplate\u001b[39m\u001b[38;5;124m'\u001b[39m][\u001b[38;5;241m10\u001b[39m])\n\u001b[0;32m      4\u001b[0m \u001b[38;5;28mprint\u001b[39m(data[\u001b[38;5;124m'\u001b[39m\u001b[38;5;124mOutput\u001b[39m\u001b[38;5;124m'\u001b[39m][\u001b[38;5;241m10\u001b[39m])\n",
      "\u001b[1;31mNameError\u001b[0m: name 'add_placeholder' is not defined"
     ]
    }
   ],
   "source": [
    "# Terapkan fungsi pada kolom 'Full Code'\n",
    "data['Template'] = data['Output'].apply(add_placeholder)\n",
    "print(data['Template'][10])\n",
    "print(data['Output'][10])\n"
   ]
  },
  {
   "cell_type": "markdown",
   "metadata": {},
   "source": [
    "Membuat fungsi untuk mengecek data soal memiliki placeholder"
   ]
  },
  {
   "cell_type": "code",
   "execution_count": null,
   "metadata": {},
   "outputs": [],
   "source": [
    "def check_placeholder_in_column(df, column_name, placeholder=\"___\"):\n",
    "    \"\"\"\n",
    "    Cek apakah kolom tertentu dalam DataFrame mengandung placeholder.\n",
    "    \n",
    "    Args:\n",
    "        df (pd.DataFrame): DataFrame yang akan dicek.\n",
    "        column_name (str): Nama kolom yang akan diperiksa.\n",
    "        placeholder (str): Placeholder yang dicari (default: \"___\").\n",
    "    \n",
    "    Returns:\n",
    "        pd.Series: Kolom boolean (True jika ada placeholder, False jika tidak).\n",
    "    \"\"\"\n",
    "    return df[column_name].str.contains(placeholder, na=False)\n"
   ]
  },
  {
   "cell_type": "code",
   "execution_count": null,
   "metadata": {},
   "outputs": [
    {
     "name": "stdout",
     "output_type": "stream",
     "text": [
      "has_placeholder\n",
      "True     266\n",
      "False     21\n",
      "Name: count, dtype: int64\n"
     ]
    }
   ],
   "source": [
    "data[\"has_placeholder\"] = check_placeholder_in_column(data, \"Template\")\n",
    "\n",
    "print(data[\"has_placeholder\"].value_counts())"
   ]
  },
  {
   "cell_type": "code",
   "execution_count": null,
   "metadata": {},
   "outputs": [],
   "source": [
    "# Hapus baris dengan nilai False\n",
    "data = data[data[\"has_placeholder\"]]\n"
   ]
  },
  {
   "cell_type": "code",
   "execution_count": null,
   "metadata": {},
   "outputs": [
    {
     "name": "stdout",
     "output_type": "stream",
     "text": [
      "has_placeholder\n",
      "True    266\n",
      "Name: count, dtype: int64\n"
     ]
    }
   ],
   "source": [
    "print(data[\"has_placeholder\"].value_counts())\n",
    "\n",
    "# Hapus kolom 'has_placeholder' jika tidak diperlukan lagi\n",
    "data = data.drop(columns=[\"has_placeholder\"])\n"
   ]
  },
  {
   "cell_type": "markdown",
   "metadata": {},
   "source": [
    "## Save Data ke dalam csv"
   ]
  },
  {
   "cell_type": "code",
   "execution_count": null,
   "metadata": {},
   "outputs": [],
   "source": [
    "# Simpan dataset yang telah diproses\n",
    "data.to_csv('Operator_with_placeholders.csv', index=False)"
   ]
  },
  {
   "cell_type": "code",
   "execution_count": null,
   "metadata": {},
   "outputs": [],
   "source": []
  }
 ],
 "metadata": {
  "kernelspec": {
   "display_name": "Python 3",
   "language": "python",
   "name": "python3"
  },
  "language_info": {
   "codemirror_mode": {
    "name": "ipython",
    "version": 3
   },
   "file_extension": ".py",
   "mimetype": "text/x-python",
   "name": "python",
   "nbconvert_exporter": "python",
   "pygments_lexer": "ipython3",
   "version": "3.11.0"
  }
 },
 "nbformat": 4,
 "nbformat_minor": 2
}
