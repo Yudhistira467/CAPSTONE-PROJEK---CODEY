{
 "cells": [
  {
   "cell_type": "markdown",
   "metadata": {},
   "source": [
    "## Import Library"
   ]
  },
  {
   "cell_type": "code",
   "execution_count": 57,
   "metadata": {},
   "outputs": [],
   "source": [
    "import pandas as pd\n",
    "import re"
   ]
  },
  {
   "cell_type": "markdown",
   "metadata": {},
   "source": [
    "## Load data"
   ]
  },
  {
   "cell_type": "code",
   "execution_count": 58,
   "metadata": {},
   "outputs": [
    {
     "data": {
      "text/html": [
       "<div>\n",
       "<style scoped>\n",
       "    .dataframe tbody tr th:only-of-type {\n",
       "        vertical-align: middle;\n",
       "    }\n",
       "\n",
       "    .dataframe tbody tr th {\n",
       "        vertical-align: top;\n",
       "    }\n",
       "\n",
       "    .dataframe thead th {\n",
       "        text-align: right;\n",
       "    }\n",
       "</style>\n",
       "<table border=\"1\" class=\"dataframe\">\n",
       "  <thead>\n",
       "    <tr style=\"text-align: right;\">\n",
       "      <th></th>\n",
       "      <th>Instruction</th>\n",
       "      <th>Input</th>\n",
       "      <th>Output</th>\n",
       "      <th>materi</th>\n",
       "      <th>question_id</th>\n",
       "    </tr>\n",
       "  </thead>\n",
       "  <tbody>\n",
       "    <tr>\n",
       "      <th>0</th>\n",
       "      <td>Write a Python function which takes in an argu...</td>\n",
       "      <td>Given an argument of 1,2 or 3</td>\n",
       "      <td>def get_string(arg):\\n    \"\"\"\\n    This functi...</td>\n",
       "      <td>Data Type</td>\n",
       "      <td>10</td>\n",
       "    </tr>\n",
       "    <tr>\n",
       "      <th>1</th>\n",
       "      <td>Build a Python script to remove all punctuatio...</td>\n",
       "      <td>\"This is a cool string!\"</td>\n",
       "      <td>import string\\n\\ninput_str = \"This is a cool s...</td>\n",
       "      <td>Data Type</td>\n",
       "      <td>22</td>\n",
       "    </tr>\n",
       "    <tr>\n",
       "      <th>2</th>\n",
       "      <td>Create a program in Python to split a string i...</td>\n",
       "      <td>String: Hello,World\\nDelimiter: ,</td>\n",
       "      <td>def split_string(s, delimiter): \\n return s.sp...</td>\n",
       "      <td>Data Type</td>\n",
       "      <td>24</td>\n",
       "    </tr>\n",
       "    <tr>\n",
       "      <th>3</th>\n",
       "      <td>Create a Python script to transform a list of ...</td>\n",
       "      <td>[\"Hello\", \"World\", \"Goodbye\"]</td>\n",
       "      <td>def string_to_length(list_strings):\\n    retur...</td>\n",
       "      <td>Data Type</td>\n",
       "      <td>37</td>\n",
       "    </tr>\n",
       "    <tr>\n",
       "      <th>4</th>\n",
       "      <td>Use an existing Python function to find the lo...</td>\n",
       "      <td>arr = [\"cat\", \"dog\", \"elephant\", \"squirrel\", \"...</td>\n",
       "      <td>max(arr, key=len) # returns \"elephant\"</td>\n",
       "      <td>Data Type</td>\n",
       "      <td>42</td>\n",
       "    </tr>\n",
       "  </tbody>\n",
       "</table>\n",
       "</div>"
      ],
      "text/plain": [
       "                                         Instruction  \\\n",
       "0  Write a Python function which takes in an argu...   \n",
       "1  Build a Python script to remove all punctuatio...   \n",
       "2  Create a program in Python to split a string i...   \n",
       "3  Create a Python script to transform a list of ...   \n",
       "4  Use an existing Python function to find the lo...   \n",
       "\n",
       "                                               Input  \\\n",
       "0                      Given an argument of 1,2 or 3   \n",
       "1                           \"This is a cool string!\"   \n",
       "2                  String: Hello,World\\nDelimiter: ,   \n",
       "3                      [\"Hello\", \"World\", \"Goodbye\"]   \n",
       "4  arr = [\"cat\", \"dog\", \"elephant\", \"squirrel\", \"...   \n",
       "\n",
       "                                              Output     materi  question_id  \n",
       "0  def get_string(arg):\\n    \"\"\"\\n    This functi...  Data Type           10  \n",
       "1  import string\\n\\ninput_str = \"This is a cool s...  Data Type           22  \n",
       "2  def split_string(s, delimiter): \\n return s.sp...  Data Type           24  \n",
       "3  def string_to_length(list_strings):\\n    retur...  Data Type           37  \n",
       "4             max(arr, key=len) # returns \"elephant\"  Data Type           42  "
      ]
     },
     "execution_count": 58,
     "metadata": {},
     "output_type": "execute_result"
    }
   ],
   "source": [
    "file_path = r'C:\\Users\\user\\CAPSTONE-PROJEK---CODEY\\Machine Learning\\kategori soal\\data_type.csv'\n",
    "\n",
    "data = pd.read_csv(file_path)\n",
    "\n",
    "data.head()"
   ]
  },
  {
   "cell_type": "code",
   "execution_count": 59,
   "metadata": {},
   "outputs": [],
   "source": [
    "import re\n",
    "\n",
    "def add_placeholder(code):\n",
    "    \"\"\"\n",
    "    Gantikan bagian tertentu dalam kode dengan placeholder '___', kecuali baris yang mengandung kata 'def'.\n",
    "    \"\"\"\n",
    "    # Pisahkan kode menjadi baris-baris\n",
    "    lines = code.split('\\n')\n",
    "    \n",
    "    # Pola regex yang akan dicari\n",
    "    patterns = [\n",
    "        r'\\bint\\s*\\(.*?\\)',           # Casting ke tipe integer\n",
    "        r'\\bfloat\\s*\\(.*?\\)',         # Casting ke tipe float\n",
    "        r'\\bstr\\s*\\(.*?\\)',           # Casting ke tipe string\n",
    "        r'\\bbool\\s*\\(.*?\\)',          # Casting ke tipe boolean\n",
    "        r'\\d+\\.\\d+',                  # Float literal\n",
    "        r'\\b\\d+\\b',                   # Integer literal\n",
    "        # r'\\'[^\\']*\\'|\\\"[^\\\"]*\\\"',     # String literal\n",
    "        r'\\bTrue\\b|\\bFalse\\b',        # Boolean\n",
    "    ]\n",
    "\n",
    "    \n",
    "    # Ganti baris yang cocok dengan pola menjadi '___', kecuali yang mengandung 'def'\n",
    "    # Ganti baris yang cocok dengan pola menjadi '___', kecuali jika mengandung 'print'\n",
    "    # Ganti baris yang cocok dengan pola menjadi '___', kecuali jika mengandung 'while'\n",
    "    for i, line in enumerate(lines):\n",
    "        # Cek apakah baris mengandung kata 'print'\n",
    "        if 'print()' not in line:\n",
    "            for pattern in patterns:\n",
    "                if re.search(pattern, line):\n",
    "                    lines[i] = re.sub(pattern, '___', line)  # Ganti dengan placeholder '___'\n",
    "    \n",
    "    # Gabungkan kembali baris-baris menjadi satu string\n",
    "    return \"\\n\".join(lines)\n"
   ]
  },
  {
   "cell_type": "markdown",
   "metadata": {},
   "source": [
    "Menambah kolom Template untuk soal "
   ]
  },
  {
   "cell_type": "code",
   "execution_count": 60,
   "metadata": {},
   "outputs": [
    {
     "name": "stdout",
     "output_type": "stream",
     "text": [
      "import re\n",
      "\n",
      "string = \"<b>This is a bold string</b>\"\n",
      "\n",
      "clean_string = re.sub(r'<[^>]*>', '', string)\n",
      "\n",
      "print(clean_string)\n",
      "def get_string(arg):\n",
      "    \"\"\"\n",
      "    This function takes in an argument and returns the corresponding\n",
      "    string. \n",
      " \n",
      "    Parameters:\n",
      "    arg (int): the argument\n",
      "\n",
      "    Returns:\n",
      "    str: the corresponding string\n",
      "    \"\"\"\n",
      "    if arg == 1:\n",
      "        return \"One\"\n",
      "    elif arg == 2:\n",
      "        return \"Two\"\n",
      "    elif arg ==3:\n",
      "        return \"Three\"\n",
      "    else:\n",
      "        return \"\"\n"
     ]
    }
   ],
   "source": [
    "# Terapkan fungsi pada kolom 'Full Code'\n",
    "data['Template'] = data['Output'].apply(add_placeholder)\n",
    "print(data['Template'][9])\n",
    "print(data['Output'][0])\n"
   ]
  },
  {
   "cell_type": "markdown",
   "metadata": {},
   "source": [
    "Membuat fungsi untuk mengecek data soal memiliki placeholder"
   ]
  },
  {
   "cell_type": "code",
   "execution_count": 61,
   "metadata": {},
   "outputs": [],
   "source": [
    "def check_placeholder_in_column(df, column_name, placeholder=\"___\"):\n",
    "    \"\"\"\n",
    "    Cek apakah kolom tertentu dalam DataFrame mengandung placeholder.\n",
    "    \n",
    "    Args:\n",
    "        df (pd.DataFrame): DataFrame yang akan dicek.\n",
    "        column_name (str): Nama kolom yang akan diperiksa.\n",
    "        placeholder (str): Placeholder yang dicari (default: \"___\").\n",
    "    \n",
    "    Returns:\n",
    "        pd.Series: Kolom boolean (True jika ada placeholder, False jika tidak).\n",
    "    \"\"\"\n",
    "    return df[column_name].str.contains(placeholder, na=False)\n"
   ]
  },
  {
   "cell_type": "code",
   "execution_count": 62,
   "metadata": {},
   "outputs": [
    {
     "name": "stdout",
     "output_type": "stream",
     "text": [
      "has_placeholder\n",
      "True     575\n",
      "False    441\n",
      "Name: count, dtype: int64\n"
     ]
    }
   ],
   "source": [
    "data[\"has_placeholder\"] = check_placeholder_in_column(data, \"Template\")\n",
    "\n",
    "print(data[\"has_placeholder\"].value_counts())"
   ]
  },
  {
   "cell_type": "code",
   "execution_count": 63,
   "metadata": {},
   "outputs": [
    {
     "name": "stdout",
     "output_type": "stream",
     "text": [
      "has_placeholder\n",
      "True    575\n",
      "Name: count, dtype: int64\n"
     ]
    }
   ],
   "source": [
    "# Hapus baris dengan nilai False\n",
    "data = data[data[\"has_placeholder\"]]\n",
    "\n",
    "print(data[\"has_placeholder\"].value_counts())\n",
    "\n",
    "# Hapus kolom 'has_placeholder' jika tidak diperlukan lagi\n",
    "data = data.drop(columns=[\"has_placeholder\"])\n"
   ]
  },
  {
   "cell_type": "markdown",
   "metadata": {},
   "source": [
    "## Save Data"
   ]
  },
  {
   "cell_type": "code",
   "execution_count": 64,
   "metadata": {},
   "outputs": [],
   "source": [
    "# Simpan dataset yang telah diproses\n",
    "data.to_csv('data_type_with_placeholders.csv', index=False)"
   ]
  },
  {
   "cell_type": "markdown",
   "metadata": {},
   "source": []
  }
 ],
 "metadata": {
  "kernelspec": {
   "display_name": "Python 3",
   "language": "python",
   "name": "python3"
  },
  "language_info": {
   "codemirror_mode": {
    "name": "ipython",
    "version": 3
   },
   "file_extension": ".py",
   "mimetype": "text/x-python",
   "name": "python",
   "nbconvert_exporter": "python",
   "pygments_lexer": "ipython3",
   "version": "3.11.0"
  }
 },
 "nbformat": 4,
 "nbformat_minor": 2
}
