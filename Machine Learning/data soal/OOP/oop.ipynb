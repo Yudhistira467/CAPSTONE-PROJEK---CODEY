{
 "cells": [
  {
   "cell_type": "markdown",
   "metadata": {},
   "source": [
    "## Import Library"
   ]
  },
  {
   "cell_type": "code",
   "execution_count": 55,
   "metadata": {},
   "outputs": [],
   "source": [
    "import pandas as pd\n",
    "import re"
   ]
  },
  {
   "cell_type": "markdown",
   "metadata": {},
   "source": [
    "## Load Data"
   ]
  },
  {
   "cell_type": "code",
   "execution_count": 56,
   "metadata": {},
   "outputs": [
    {
     "data": {
      "text/html": [
       "<div>\n",
       "<style scoped>\n",
       "    .dataframe tbody tr th:only-of-type {\n",
       "        vertical-align: middle;\n",
       "    }\n",
       "\n",
       "    .dataframe tbody tr th {\n",
       "        vertical-align: top;\n",
       "    }\n",
       "\n",
       "    .dataframe thead th {\n",
       "        text-align: right;\n",
       "    }\n",
       "</style>\n",
       "<table border=\"1\" class=\"dataframe\">\n",
       "  <thead>\n",
       "    <tr style=\"text-align: right;\">\n",
       "      <th></th>\n",
       "      <th>Instruction</th>\n",
       "      <th>Input</th>\n",
       "      <th>Output</th>\n",
       "      <th>materi</th>\n",
       "      <th>question_id</th>\n",
       "    </tr>\n",
       "  </thead>\n",
       "  <tbody>\n",
       "    <tr>\n",
       "      <th>0</th>\n",
       "      <td>Design a class in Python that models a custome...</td>\n",
       "      <td>Attributes: name, email, phone_number, address.</td>\n",
       "      <td>class Customer:\\n    def __init__(self,name, e...</td>\n",
       "      <td>OOP</td>\n",
       "      <td>34</td>\n",
       "    </tr>\n",
       "    <tr>\n",
       "      <th>1</th>\n",
       "      <td>Write a python program to classify an object b...</td>\n",
       "      <td>[2.5, 4.5, 2.5], Classes: [\"apple\", \"orange\", ...</td>\n",
       "      <td>def classify_object(features, classes):\\n    m...</td>\n",
       "      <td>OOP</td>\n",
       "      <td>468</td>\n",
       "    </tr>\n",
       "    <tr>\n",
       "      <th>2</th>\n",
       "      <td>Create a class in Python that represents a giv...</td>\n",
       "      <td>Cat</td>\n",
       "      <td>class Cat:\\n    def __init__(self):\\n        s...</td>\n",
       "      <td>OOP</td>\n",
       "      <td>595</td>\n",
       "    </tr>\n",
       "    <tr>\n",
       "      <th>3</th>\n",
       "      <td>Create an object in Python that stores an empl...</td>\n",
       "      <td>\"John\" 28</td>\n",
       "      <td>employee = {\\n 'name': 'John',\\n 'age': 28\\n}</td>\n",
       "      <td>OOP</td>\n",
       "      <td>835</td>\n",
       "    </tr>\n",
       "    <tr>\n",
       "      <th>4</th>\n",
       "      <td>Extend a Python class to create another class ...</td>\n",
       "      <td>class Vehicle:\\n\\tdef __init__(self):\\n\\t\\tsel...</td>\n",
       "      <td>class Motorcycle(Vehicle):\\n    def __init__(s...</td>\n",
       "      <td>OOP</td>\n",
       "      <td>836</td>\n",
       "    </tr>\n",
       "  </tbody>\n",
       "</table>\n",
       "</div>"
      ],
      "text/plain": [
       "                                         Instruction  \\\n",
       "0  Design a class in Python that models a custome...   \n",
       "1  Write a python program to classify an object b...   \n",
       "2  Create a class in Python that represents a giv...   \n",
       "3  Create an object in Python that stores an empl...   \n",
       "4  Extend a Python class to create another class ...   \n",
       "\n",
       "                                               Input  \\\n",
       "0    Attributes: name, email, phone_number, address.   \n",
       "1  [2.5, 4.5, 2.5], Classes: [\"apple\", \"orange\", ...   \n",
       "2                                                Cat   \n",
       "3                                          \"John\" 28   \n",
       "4  class Vehicle:\\n\\tdef __init__(self):\\n\\t\\tsel...   \n",
       "\n",
       "                                              Output materi  question_id  \n",
       "0  class Customer:\\n    def __init__(self,name, e...    OOP           34  \n",
       "1  def classify_object(features, classes):\\n    m...    OOP          468  \n",
       "2  class Cat:\\n    def __init__(self):\\n        s...    OOP          595  \n",
       "3      employee = {\\n 'name': 'John',\\n 'age': 28\\n}    OOP          835  \n",
       "4  class Motorcycle(Vehicle):\\n    def __init__(s...    OOP          836  "
      ]
     },
     "execution_count": 56,
     "metadata": {},
     "output_type": "execute_result"
    }
   ],
   "source": [
    "\n",
    "file_path = 'C:/Users/user/CAPSTONE-PROJEK---CODEY/Machine Learning/kategori soal/oop.csv'\n",
    "\n",
    "data = pd.read_csv(file_path)\n",
    "data.head()\n"
   ]
  },
  {
   "cell_type": "code",
   "execution_count": 57,
   "metadata": {},
   "outputs": [],
   "source": [
    "def add_placeholder(code):\n",
    "    \"\"\"\n",
    "    Gantikan bagian tertentu dalam kode dengan placeholder '___', kecuali jika baris mengandung 'print'.\n",
    "    \"\"\"\n",
    "    # Pisahkan kode menjadi baris-baris\n",
    "    lines = code.split('\\n')\n",
    "    \n",
    "    # Pola regex yang akan dicari\n",
    "    patterns = [\n",
    "        r'class\\s+\\w+\\s*:',                          # Deklarasi kelas (class definition)\n",
    "        r'__init__\\s*\\(.*\\)\\s*:',                    # Konstruktor (metode __init__)\n",
    "        r'self\\.\\w+\\s*=',                             # Penetapan variabel instansi (self.<variable>)\n",
    "        r'@classmethod|@staticmethod',               # Dekorator untuk kelas dan metode statis\n",
    "        r'def\\s+\\w+\\s*\\(self[^\\)]*\\)\\s*:' ,                  # Definisi metode dalam kelas\n",
    "        r'class\\s+\\w+\\s*\\(\\s*\\w+',                   # Pewarisan kelas (inheritance)\n",
    "    ]\n",
    "    \n",
    "    # Ganti baris yang cocok dengan pola menjadi '___', kecuali jika mengandung 'print'\n",
    "    for i, line in enumerate(lines):\n",
    "        # Cek apakah baris mengandung kata 'print' dan 'def\n",
    "        if 'print' or 'def' not in line:\n",
    "            for pattern in patterns:\n",
    "                if re.search(pattern, line):\n",
    "                    lines[i] = re.sub(pattern, '___', line)  # Ganti dengan placeholder '___'\n",
    "    \n",
    "    # Gabungkan kembali baris-baris menjadi satu string\n",
    "    return \"\\n\".join(lines)\n"
   ]
  },
  {
   "cell_type": "markdown",
   "metadata": {},
   "source": [
    "Menambahkan kolom template untuk soal"
   ]
  },
  {
   "cell_type": "code",
   "execution_count": 58,
   "metadata": {},
   "outputs": [
    {
     "name": "stdout",
     "output_type": "stream",
     "text": [
      "___\n",
      "    ___\n",
      "        ___ name\n",
      "        ___ email\n",
      "        ___ phone_number\n",
      "        ___ address\n",
      "class Customer:\n",
      "    def __init__(self,name, email, phone_number, address):\n",
      "        self.name = name\n",
      "        self.email = email\n",
      "        self.phone_number = phone_number\n",
      "        self.address = address\n"
     ]
    }
   ],
   "source": [
    "# Terapkan fungsi pada kolom 'Output'\n",
    "data['Template'] = data['Output'].apply(add_placeholder)\n",
    "print(data['Template'][0])\n",
    "print(data['Output'][0])\n"
   ]
  },
  {
   "cell_type": "markdown",
   "metadata": {},
   "source": [
    "Membuat fungsi untuk mengecek data soal memiliki placeholder"
   ]
  },
  {
   "cell_type": "code",
   "execution_count": 59,
   "metadata": {},
   "outputs": [],
   "source": [
    "def check_placeholder_in_column(df, column_name, placeholder=\"___\"):\n",
    "    \"\"\"\n",
    "    Cek apakah kolom tertentu dalam DataFrame mengandung placeholder.\n",
    "    \n",
    "    Args:\n",
    "        df (pd.DataFrame): DataFrame yang akan dicek.\n",
    "        column_name (str): Nama kolom yang akan diperiksa.\n",
    "        placeholder (str): Placeholder yang dicari (default: \"___\").\n",
    "    \n",
    "    Returns:\n",
    "        pd.Series: Kolom boolean (True jika ada placeholder, False jika tidak).\n",
    "    \"\"\"\n",
    "    return df[column_name].str.contains(placeholder, na=False)\n"
   ]
  },
  {
   "cell_type": "code",
   "execution_count": 60,
   "metadata": {},
   "outputs": [
    {
     "name": "stdout",
     "output_type": "stream",
     "text": [
      "has_placeholder\n",
      "True     45\n",
      "False    40\n",
      "Name: count, dtype: int64\n"
     ]
    }
   ],
   "source": [
    "data[\"has_placeholder\"] = check_placeholder_in_column(data, \"Template\")\n",
    "\n",
    "print(data[\"has_placeholder\"].value_counts())"
   ]
  },
  {
   "cell_type": "code",
   "execution_count": 61,
   "metadata": {},
   "outputs": [],
   "source": [
    "# Hapus baris dengan nilai False\n",
    "data = data[data[\"has_placeholder\"]]\n"
   ]
  },
  {
   "cell_type": "code",
   "execution_count": 62,
   "metadata": {},
   "outputs": [
    {
     "name": "stdout",
     "output_type": "stream",
     "text": [
      "has_placeholder\n",
      "True    45\n",
      "Name: count, dtype: int64\n"
     ]
    }
   ],
   "source": [
    "print(data[\"has_placeholder\"].value_counts())\n",
    "\n",
    "# Hapus kolom 'has_placeholder' jika tidak diperlukan lagi\n",
    "data = data.drop(columns=[\"has_placeholder\"])\n"
   ]
  },
  {
   "cell_type": "markdown",
   "metadata": {},
   "source": [
    "## Save Data ke dalam csv"
   ]
  },
  {
   "cell_type": "code",
   "execution_count": 63,
   "metadata": {},
   "outputs": [],
   "source": [
    "# Simpan dataset yang telah diproses\n",
    "data.to_csv('oop_with_placeholders.csv', index=False)"
   ]
  },
  {
   "cell_type": "code",
   "execution_count": null,
   "metadata": {},
   "outputs": [],
   "source": []
  }
 ],
 "metadata": {
  "kernelspec": {
   "display_name": "Python 3",
   "language": "python",
   "name": "python3"
  },
  "language_info": {
   "codemirror_mode": {
    "name": "ipython",
    "version": 3
   },
   "file_extension": ".py",
   "mimetype": "text/x-python",
   "name": "python",
   "nbconvert_exporter": "python",
   "pygments_lexer": "ipython3",
   "version": "3.11.0"
  }
 },
 "nbformat": 4,
 "nbformat_minor": 2
}
