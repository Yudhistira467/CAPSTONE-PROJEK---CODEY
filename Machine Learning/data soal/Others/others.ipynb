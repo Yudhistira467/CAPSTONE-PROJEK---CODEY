{
 "cells": [
  {
   "cell_type": "markdown",
   "metadata": {},
   "source": [
    "## Import Library"
   ]
  },
  {
   "cell_type": "code",
   "execution_count": 30,
   "metadata": {},
   "outputs": [],
   "source": [
    "import pandas as pd\n",
    "import re"
   ]
  },
  {
   "cell_type": "markdown",
   "metadata": {},
   "source": [
    "## Load data"
   ]
  },
  {
   "cell_type": "code",
   "execution_count": 31,
   "metadata": {},
   "outputs": [
    {
     "data": {
      "text/html": [
       "<div>\n",
       "<style scoped>\n",
       "    .dataframe tbody tr th:only-of-type {\n",
       "        vertical-align: middle;\n",
       "    }\n",
       "\n",
       "    .dataframe tbody tr th {\n",
       "        vertical-align: top;\n",
       "    }\n",
       "\n",
       "    .dataframe thead th {\n",
       "        text-align: right;\n",
       "    }\n",
       "</style>\n",
       "<table border=\"1\" class=\"dataframe\">\n",
       "  <thead>\n",
       "    <tr style=\"text-align: right;\">\n",
       "      <th></th>\n",
       "      <th>Instruction</th>\n",
       "      <th>Input</th>\n",
       "      <th>Output</th>\n",
       "      <th>materi</th>\n",
       "      <th>question_id</th>\n",
       "    </tr>\n",
       "  </thead>\n",
       "  <tbody>\n",
       "    <tr>\n",
       "      <th>0</th>\n",
       "      <td>Write a Python program to generate a Fibonacci...</td>\n",
       "      <td>Number of elements = 10</td>\n",
       "      <td>def generateFibonacci(numOfElements):\\n sequen...</td>\n",
       "      <td>Lainnya</td>\n",
       "      <td>5</td>\n",
       "    </tr>\n",
       "    <tr>\n",
       "      <th>1</th>\n",
       "      <td>Identify the output of the following python co...</td>\n",
       "      <td>arr = [1, 2, 4, 8, 16]\\nnew_arr = [i * 2 for i...</td>\n",
       "      <td>[2, 4, 8, 16, 32]</td>\n",
       "      <td>Lainnya</td>\n",
       "      <td>6</td>\n",
       "    </tr>\n",
       "    <tr>\n",
       "      <th>2</th>\n",
       "      <td>Fix the following syntax in Python code</td>\n",
       "      <td>string1 = \"Programming\"\\nstring2 = \"Fundamentals</td>\n",
       "      <td>string1 = \"Programming\"\\nstring2 = \"Fundamentals\"</td>\n",
       "      <td>Lainnya</td>\n",
       "      <td>9</td>\n",
       "    </tr>\n",
       "    <tr>\n",
       "      <th>3</th>\n",
       "      <td>Write a python program to successfully insert ...</td>\n",
       "      <td>student_name = \"John Doe\"\\nstudent_age = 20</td>\n",
       "      <td>import sqlite3\\n\\nconn = sqlite3.connect(\"exam...</td>\n",
       "      <td>Lainnya</td>\n",
       "      <td>12</td>\n",
       "    </tr>\n",
       "    <tr>\n",
       "      <th>4</th>\n",
       "      <td>Create a web server in Python.</td>\n",
       "      <td>&lt;no input&gt;</td>\n",
       "      <td>import http.server\\nimport socketserver\\n\\nPOR...</td>\n",
       "      <td>Lainnya</td>\n",
       "      <td>20</td>\n",
       "    </tr>\n",
       "  </tbody>\n",
       "</table>\n",
       "</div>"
      ],
      "text/plain": [
       "                                         Instruction  \\\n",
       "0  Write a Python program to generate a Fibonacci...   \n",
       "1  Identify the output of the following python co...   \n",
       "2            Fix the following syntax in Python code   \n",
       "3  Write a python program to successfully insert ...   \n",
       "4                     Create a web server in Python.   \n",
       "\n",
       "                                               Input  \\\n",
       "0                            Number of elements = 10   \n",
       "1  arr = [1, 2, 4, 8, 16]\\nnew_arr = [i * 2 for i...   \n",
       "2   string1 = \"Programming\"\\nstring2 = \"Fundamentals   \n",
       "3        student_name = \"John Doe\"\\nstudent_age = 20   \n",
       "4                                         <no input>   \n",
       "\n",
       "                                              Output   materi  question_id  \n",
       "0  def generateFibonacci(numOfElements):\\n sequen...  Lainnya            5  \n",
       "1                                  [2, 4, 8, 16, 32]  Lainnya            6  \n",
       "2  string1 = \"Programming\"\\nstring2 = \"Fundamentals\"  Lainnya            9  \n",
       "3  import sqlite3\\n\\nconn = sqlite3.connect(\"exam...  Lainnya           12  \n",
       "4  import http.server\\nimport socketserver\\n\\nPOR...  Lainnya           20  "
      ]
     },
     "execution_count": 31,
     "metadata": {},
     "output_type": "execute_result"
    }
   ],
   "source": [
    "file_path = r'C:\\Users\\user\\CAPSTONE-PROJEK---CODEY\\Machine Learning\\kategori soal\\others.csv'\n",
    "\n",
    "data = pd.read_csv(file_path)\n",
    "\n",
    "data.head()"
   ]
  },
  {
   "cell_type": "code",
   "execution_count": 32,
   "metadata": {},
   "outputs": [],
   "source": [
    "def add_placeholder(code):\n",
    "    \"\"\"\n",
    "    Gantikan bagian tertentu dalam kode dengan placeholder '___', kecuali jika baris mengandung 'print'.\n",
    "    \"\"\"\n",
    "    # Pisahkan kode menjadi baris-baris\n",
    "    lines = code.split('\\n')\n",
    "    \n",
    "    # Pola regex yang akan dicari\n",
    "    patterns = [\n",
    "        # Handling Errors (try-except-finally)\n",
    "        r'\\btry\\s*:\\s*|except\\s+\\w*\\s*:\\s*|finally\\s*:\\s*',\n",
    "        \n",
    "        # File Handling (open, read, write, close)\n",
    "        r'\\b(open|read|write|close|with\\s+open)\\b',\n",
    "        \n",
    "        # Modules and Libraries (import statements)\n",
    "        r'\\bimport\\s+\\w+|\\bfrom\\s+\\w+\\s+import\\s+\\w+',\n",
    "        \n",
    "        # Itertools and Generators (yield, itertools functions)\n",
    "        r'\\byield\\b|\\bitertools\\.\\w+\\b',\n",
    "        \n",
    "        # Decorators (functions with @)\n",
    "        r'@\\w+',\n",
    "    ]\n",
    "    \n",
    "    # Ganti baris yang cocok dengan pola menjadi '___', kecuali jika mengandung 'print'\n",
    "    for i, line in enumerate(lines):\n",
    "        # Cek apakah baris mengandung kata 'print'\n",
    "        if 'print' not in line:\n",
    "            for pattern in patterns:\n",
    "                if re.search(pattern, line):\n",
    "                    lines[i] = re.sub(pattern, '___', line)  # Ganti dengan placeholder '___'\n",
    "    \n",
    "    # Gabungkan kembali baris-baris menjadi satu string\n",
    "    return \"\\n\".join(lines)\n"
   ]
  },
  {
   "cell_type": "markdown",
   "metadata": {},
   "source": [
    "Menambah kolom Template untuk soal "
   ]
  },
  {
   "cell_type": "code",
   "execution_count": 33,
   "metadata": {},
   "outputs": [
    {
     "name": "stdout",
     "output_type": "stream",
     "text": [
      "def generate_fibonacci_series(n):\n",
      "    print(\"0\")\n",
      "    current = 0\n",
      "    next = 1\n",
      "    for i in range(0, n):\n",
      "        print(current)\n",
      "        temp = current\n",
      "        current = next\n",
      "        next = temp + next\n"
     ]
    }
   ],
   "source": [
    "# Terapkan fungsi pada kolom 'Full Code'\n",
    "data['Template'] = data['Output'].apply(add_placeholder)\n",
    "print(data['Template'][90])"
   ]
  },
  {
   "cell_type": "markdown",
   "metadata": {},
   "source": [
    "Membuat fungsi untuk mengecek data soal memiliki placeholder"
   ]
  },
  {
   "cell_type": "code",
   "execution_count": 34,
   "metadata": {},
   "outputs": [],
   "source": [
    "def check_placeholder_in_column(df, column_name, placeholder=\"___\"):\n",
    "    \"\"\"\n",
    "    Cek apakah kolom tertentu dalam DataFrame mengandung placeholder.\n",
    "    \n",
    "    Args:\n",
    "        df (pd.DataFrame): DataFrame yang akan dicek.\n",
    "        column_name (str): Nama kolom yang akan diperiksa.\n",
    "        placeholder (str): Placeholder yang dicari (default: \"___\").\n",
    "    \n",
    "    Returns:\n",
    "        pd.Series: Kolom boolean (True jika ada placeholder, False jika tidak).\n",
    "    \"\"\"\n",
    "    return df[column_name].str.contains(placeholder, na=False)\n"
   ]
  },
  {
   "cell_type": "code",
   "execution_count": 35,
   "metadata": {},
   "outputs": [
    {
     "name": "stdout",
     "output_type": "stream",
     "text": [
      "has_placeholder\n",
      "False    1655\n",
      "True      535\n",
      "Name: count, dtype: int64\n"
     ]
    }
   ],
   "source": [
    "data[\"has_placeholder\"] = check_placeholder_in_column(data, \"Template\")\n",
    "\n",
    "print(data[\"has_placeholder\"].value_counts())"
   ]
  },
  {
   "cell_type": "code",
   "execution_count": 36,
   "metadata": {},
   "outputs": [
    {
     "name": "stdout",
     "output_type": "stream",
     "text": [
      "has_placeholder\n",
      "True    535\n",
      "Name: count, dtype: int64\n"
     ]
    }
   ],
   "source": [
    "# Hapus baris dengan nilai False\n",
    "data = data[data[\"has_placeholder\"]]\n",
    "\n",
    "print(data[\"has_placeholder\"].value_counts())\n",
    "\n",
    "# Hapus kolom 'has_placeholder' jika tidak diperlukan lagi\n",
    "data = data.drop(columns=[\"has_placeholder\"])\n"
   ]
  },
  {
   "cell_type": "markdown",
   "metadata": {},
   "source": [
    "## Save Data"
   ]
  },
  {
   "cell_type": "code",
   "execution_count": 37,
   "metadata": {},
   "outputs": [],
   "source": [
    "# Simpan dataset yang telah diproses\n",
    "data.to_csv('others_with_placeholders.csv', index=False)"
   ]
  },
  {
   "cell_type": "code",
   "execution_count": 38,
   "metadata": {},
   "outputs": [
    {
     "data": {
      "text/html": [
       "<div>\n",
       "<style scoped>\n",
       "    .dataframe tbody tr th:only-of-type {\n",
       "        vertical-align: middle;\n",
       "    }\n",
       "\n",
       "    .dataframe tbody tr th {\n",
       "        vertical-align: top;\n",
       "    }\n",
       "\n",
       "    .dataframe thead th {\n",
       "        text-align: right;\n",
       "    }\n",
       "</style>\n",
       "<table border=\"1\" class=\"dataframe\">\n",
       "  <thead>\n",
       "    <tr style=\"text-align: right;\">\n",
       "      <th></th>\n",
       "      <th>Instruction</th>\n",
       "      <th>Input</th>\n",
       "      <th>Output</th>\n",
       "      <th>materi</th>\n",
       "      <th>question_id</th>\n",
       "      <th>Template</th>\n",
       "    </tr>\n",
       "  </thead>\n",
       "  <tbody>\n",
       "    <tr>\n",
       "      <th>3</th>\n",
       "      <td>Write a python program to successfully insert ...</td>\n",
       "      <td>student_name = \"John Doe\"\\nstudent_age = 20</td>\n",
       "      <td>import sqlite3\\n\\nconn = sqlite3.connect(\"exam...</td>\n",
       "      <td>Lainnya</td>\n",
       "      <td>12</td>\n",
       "      <td>___\\n\\nconn = sqlite3.connect(\"example.db\")\\nc...</td>\n",
       "    </tr>\n",
       "    <tr>\n",
       "      <th>4</th>\n",
       "      <td>Create a web server in Python.</td>\n",
       "      <td>&lt;no input&gt;</td>\n",
       "      <td>import http.server\\nimport socketserver\\n\\nPOR...</td>\n",
       "      <td>Lainnya</td>\n",
       "      <td>20</td>\n",
       "      <td>___.server\\n___\\n\\nPORT = 8080\\n\\nHandler = ht...</td>\n",
       "    </tr>\n",
       "    <tr>\n",
       "      <th>16</th>\n",
       "      <td>Write a Python program that takes a sentence a...</td>\n",
       "      <td>String: \"This, is a?! test* sentence.\"</td>\n",
       "      <td>import string\\n\\ndef removePunctuations(senten...</td>\n",
       "      <td>Lainnya</td>\n",
       "      <td>57</td>\n",
       "      <td>___\\n\\ndef removePunctuations(sentence):\\n    ...</td>\n",
       "    </tr>\n",
       "    <tr>\n",
       "      <th>22</th>\n",
       "      <td>Write a Python program to solve a quadratic eq...</td>\n",
       "      <td>a = 1\\nb = -5\\nc = 6</td>\n",
       "      <td>import math\\n\\n# Solve the quadratic equation ...</td>\n",
       "      <td>Lainnya</td>\n",
       "      <td>93</td>\n",
       "      <td>___\\n\\n# Solve the quadratic equation ax**2 + ...</td>\n",
       "    </tr>\n",
       "    <tr>\n",
       "      <th>23</th>\n",
       "      <td>Write a Python code to tokenize the given sent...</td>\n",
       "      <td>This is a sample sentence</td>\n",
       "      <td>import nltk\\n\\nsentence = \"This is a sample se...</td>\n",
       "      <td>Lainnya</td>\n",
       "      <td>99</td>\n",
       "      <td>___\\n\\nsentence = \"This is a sample sentence\"\\...</td>\n",
       "    </tr>\n",
       "  </tbody>\n",
       "</table>\n",
       "</div>"
      ],
      "text/plain": [
       "                                          Instruction  \\\n",
       "3   Write a python program to successfully insert ...   \n",
       "4                      Create a web server in Python.   \n",
       "16  Write a Python program that takes a sentence a...   \n",
       "22  Write a Python program to solve a quadratic eq...   \n",
       "23  Write a Python code to tokenize the given sent...   \n",
       "\n",
       "                                          Input  \\\n",
       "3   student_name = \"John Doe\"\\nstudent_age = 20   \n",
       "4                                    <no input>   \n",
       "16       String: \"This, is a?! test* sentence.\"   \n",
       "22                         a = 1\\nb = -5\\nc = 6   \n",
       "23                    This is a sample sentence   \n",
       "\n",
       "                                               Output   materi  question_id  \\\n",
       "3   import sqlite3\\n\\nconn = sqlite3.connect(\"exam...  Lainnya           12   \n",
       "4   import http.server\\nimport socketserver\\n\\nPOR...  Lainnya           20   \n",
       "16  import string\\n\\ndef removePunctuations(senten...  Lainnya           57   \n",
       "22  import math\\n\\n# Solve the quadratic equation ...  Lainnya           93   \n",
       "23  import nltk\\n\\nsentence = \"This is a sample se...  Lainnya           99   \n",
       "\n",
       "                                             Template  \n",
       "3   ___\\n\\nconn = sqlite3.connect(\"example.db\")\\nc...  \n",
       "4   ___.server\\n___\\n\\nPORT = 8080\\n\\nHandler = ht...  \n",
       "16  ___\\n\\ndef removePunctuations(sentence):\\n    ...  \n",
       "22  ___\\n\\n# Solve the quadratic equation ax**2 + ...  \n",
       "23  ___\\n\\nsentence = \"This is a sample sentence\"\\...  "
      ]
     },
     "execution_count": 38,
     "metadata": {},
     "output_type": "execute_result"
    }
   ],
   "source": [
    "data.head()"
   ]
  },
  {
   "cell_type": "markdown",
   "metadata": {},
   "source": []
  }
 ],
 "metadata": {
  "kernelspec": {
   "display_name": "Python 3",
   "language": "python",
   "name": "python3"
  },
  "language_info": {
   "codemirror_mode": {
    "name": "ipython",
    "version": 3
   },
   "file_extension": ".py",
   "mimetype": "text/x-python",
   "name": "python",
   "nbconvert_exporter": "python",
   "pygments_lexer": "ipython3",
   "version": "3.11.0"
  }
 },
 "nbformat": 4,
 "nbformat_minor": 2
}
