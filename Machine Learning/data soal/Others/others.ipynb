{
 "cells": [
  {
   "cell_type": "markdown",
   "metadata": {},
   "source": [
    "## Import Library"
   ]
  },
  {
   "cell_type": "code",
   "execution_count": 26,
   "metadata": {},
   "outputs": [],
   "source": [
    "import pandas as pd\n",
    "import re"
   ]
  },
  {
   "cell_type": "markdown",
   "metadata": {},
   "source": [
    "## Load data"
   ]
  },
  {
   "cell_type": "code",
   "execution_count": 27,
   "metadata": {},
   "outputs": [
    {
     "data": {
      "text/html": [
       "<div>\n",
       "<style scoped>\n",
       "    .dataframe tbody tr th:only-of-type {\n",
       "        vertical-align: middle;\n",
       "    }\n",
       "\n",
       "    .dataframe tbody tr th {\n",
       "        vertical-align: top;\n",
       "    }\n",
       "\n",
       "    .dataframe thead th {\n",
       "        text-align: right;\n",
       "    }\n",
       "</style>\n",
       "<table border=\"1\" class=\"dataframe\">\n",
       "  <thead>\n",
       "    <tr style=\"text-align: right;\">\n",
       "      <th></th>\n",
       "      <th>Instruction</th>\n",
       "      <th>Input</th>\n",
       "      <th>Output</th>\n",
       "      <th>materi</th>\n",
       "      <th>question_id</th>\n",
       "    </tr>\n",
       "  </thead>\n",
       "  <tbody>\n",
       "    <tr>\n",
       "      <th>0</th>\n",
       "      <td>Write a Python program to generate a Fibonacci...</td>\n",
       "      <td>Number of elements = 10</td>\n",
       "      <td>def generateFibonacci(numOfElements):\\n sequen...</td>\n",
       "      <td>Lainnya</td>\n",
       "      <td>5</td>\n",
       "    </tr>\n",
       "    <tr>\n",
       "      <th>1</th>\n",
       "      <td>Identify the output of the following python co...</td>\n",
       "      <td>arr = [1, 2, 4, 8, 16]\\nnew_arr = [i * 2 for i...</td>\n",
       "      <td>[2, 4, 8, 16, 32]</td>\n",
       "      <td>Lainnya</td>\n",
       "      <td>6</td>\n",
       "    </tr>\n",
       "    <tr>\n",
       "      <th>2</th>\n",
       "      <td>Fix the following syntax in Python code</td>\n",
       "      <td>string1 = \"Programming\"\\nstring2 = \"Fundamentals</td>\n",
       "      <td>string1 = \"Programming\"\\nstring2 = \"Fundamentals\"</td>\n",
       "      <td>Lainnya</td>\n",
       "      <td>9</td>\n",
       "    </tr>\n",
       "    <tr>\n",
       "      <th>3</th>\n",
       "      <td>Write a python program to successfully insert ...</td>\n",
       "      <td>student_name = \"John Doe\"\\nstudent_age = 20</td>\n",
       "      <td>import sqlite3\\n\\nconn = sqlite3.connect(\"exam...</td>\n",
       "      <td>Lainnya</td>\n",
       "      <td>12</td>\n",
       "    </tr>\n",
       "    <tr>\n",
       "      <th>4</th>\n",
       "      <td>Create a web server in Python.</td>\n",
       "      <td>&lt;no input&gt;</td>\n",
       "      <td>import http.server\\nimport socketserver\\n\\nPOR...</td>\n",
       "      <td>Lainnya</td>\n",
       "      <td>20</td>\n",
       "    </tr>\n",
       "  </tbody>\n",
       "</table>\n",
       "</div>"
      ],
      "text/plain": [
       "                                         Instruction  \\\n",
       "0  Write a Python program to generate a Fibonacci...   \n",
       "1  Identify the output of the following python co...   \n",
       "2            Fix the following syntax in Python code   \n",
       "3  Write a python program to successfully insert ...   \n",
       "4                     Create a web server in Python.   \n",
       "\n",
       "                                               Input  \\\n",
       "0                            Number of elements = 10   \n",
       "1  arr = [1, 2, 4, 8, 16]\\nnew_arr = [i * 2 for i...   \n",
       "2   string1 = \"Programming\"\\nstring2 = \"Fundamentals   \n",
       "3        student_name = \"John Doe\"\\nstudent_age = 20   \n",
       "4                                         <no input>   \n",
       "\n",
       "                                              Output   materi  question_id  \n",
       "0  def generateFibonacci(numOfElements):\\n sequen...  Lainnya            5  \n",
       "1                                  [2, 4, 8, 16, 32]  Lainnya            6  \n",
       "2  string1 = \"Programming\"\\nstring2 = \"Fundamentals\"  Lainnya            9  \n",
       "3  import sqlite3\\n\\nconn = sqlite3.connect(\"exam...  Lainnya           12  \n",
       "4  import http.server\\nimport socketserver\\n\\nPOR...  Lainnya           20  "
      ]
     },
     "execution_count": 27,
     "metadata": {},
     "output_type": "execute_result"
    }
   ],
   "source": [
    "file_path = r'C:\\Users\\user\\CAPSTONE-PROJEK---CODEY\\Machine Learning\\kategori soal\\others.csv'\n",
    "\n",
    "data = pd.read_csv(file_path)\n",
    "\n",
    "data.head()"
   ]
  },
  {
   "cell_type": "code",
   "execution_count": 28,
   "metadata": {},
   "outputs": [],
   "source": [
    "def add_placeholder(code):\n",
    "    \"\"\"\n",
    "    Gantikan kata setelah kata kunci dengan placeholder '___'.\n",
    "    Hanya satu kali mengganti di seluruh kode setelah menemukan kecocokan pertama.\n",
    "    \"\"\"\n",
    "    # Pola regex untuk mencari kata kunci dan mengganti kata setelahnya dengan placeholder\n",
    "    patterns = [\n",
    "         r'\\b(import|open|read|write|close|with\\s+open)\\s+(\\w+)\\b'\n",
    "    ]\n",
    "    \n",
    "    # Cari kecocokan pertama dalam seluruh kode\n",
    "    for pattern in patterns:\n",
    "        match = re.search(pattern, code)\n",
    "        if match:\n",
    "            # Ganti kata setelah kata kunci dengan placeholder '___' pada kecocokan pertama\n",
    "            code = re.sub(pattern, r'\\1 ___', code, count=1)  # Hanya mengganti kecocokan pertama\n",
    "    \n",
    "    return code\n"
   ]
  },
  {
   "cell_type": "markdown",
   "metadata": {},
   "source": [
    "Menambah kolom Template untuk soal "
   ]
  },
  {
   "cell_type": "code",
   "execution_count": 29,
   "metadata": {},
   "outputs": [
    {
     "name": "stdout",
     "output_type": "stream",
     "text": [
      "import ___\n",
      "\n",
      "conn = sqlite3.connect(\"example.db\")\n",
      "c = conn.cursor()\n",
      "c.execute(\"INSERT INTO students VALUES ('John Doe', 20)\")\n",
      "conn.commit()\n",
      "conn.close()\n"
     ]
    }
   ],
   "source": [
    "# Terapkan fungsi pada kolom 'Full Code'\n",
    "data['Template'] = data['Output'].apply(add_placeholder)\n",
    "print(data['Template'][3])"
   ]
  },
  {
   "cell_type": "markdown",
   "metadata": {},
   "source": [
    "Membuat fungsi untuk mengecek data soal memiliki placeholder"
   ]
  },
  {
   "cell_type": "code",
   "execution_count": 30,
   "metadata": {},
   "outputs": [],
   "source": [
    "def check_placeholder_in_column(df, column_name, placeholder=\"___\"):\n",
    "    \"\"\"\n",
    "    Cek apakah kolom tertentu dalam DataFrame mengandung placeholder.\n",
    "    \n",
    "    Args:\n",
    "        df (pd.DataFrame): DataFrame yang akan dicek.\n",
    "        column_name (str): Nama kolom yang akan diperiksa.\n",
    "        placeholder (str): Placeholder yang dicari (default: \"___\").\n",
    "    \n",
    "    Returns:\n",
    "        pd.Series: Kolom boolean (True jika ada placeholder, False jika tidak).\n",
    "    \"\"\"\n",
    "    return df[column_name].str.contains(placeholder, na=False)\n"
   ]
  },
  {
   "cell_type": "code",
   "execution_count": 31,
   "metadata": {},
   "outputs": [
    {
     "name": "stdout",
     "output_type": "stream",
     "text": [
      "has_placeholder\n",
      "False    1686\n",
      "True      504\n",
      "Name: count, dtype: int64\n"
     ]
    }
   ],
   "source": [
    "data[\"has_placeholder\"] = check_placeholder_in_column(data, \"Template\")\n",
    "\n",
    "print(data[\"has_placeholder\"].value_counts())"
   ]
  },
  {
   "cell_type": "code",
   "execution_count": 32,
   "metadata": {},
   "outputs": [
    {
     "name": "stdout",
     "output_type": "stream",
     "text": [
      "has_placeholder\n",
      "True    504\n",
      "Name: count, dtype: int64\n"
     ]
    }
   ],
   "source": [
    "# Hapus baris dengan nilai False\n",
    "data = data[data[\"has_placeholder\"]]\n",
    "\n",
    "print(data[\"has_placeholder\"].value_counts())\n",
    "\n",
    "# Hapus kolom 'has_placeholder' jika tidak diperlukan lagi\n",
    "data = data.drop(columns=[\"has_placeholder\"])\n"
   ]
  },
  {
   "cell_type": "code",
   "execution_count": 33,
   "metadata": {},
   "outputs": [],
   "source": [
    "def extract_keyword_variable(code):\n",
    "    \"\"\"\n",
    "    Mengambil kata setelah kata kunci dan mengembalikannya.\n",
    "    \"\"\"\n",
    "    # Pola regex untuk mencari kata kunci dan mengekstrak kata setelahnya\n",
    "    pattern = r'\\b(import|open|read|write|close|with\\s+open)\\s+(\\w+)\\b'\n",
    "    \n",
    "    match = re.search(pattern, code)\n",
    "    \n",
    "    # Jika ada kecocokan, ambil kata setelah kata kunci (hasil kedua dalam tuple)\n",
    "    if match:\n",
    "        return match[2]  # Kata setelah kata kunci\n",
    "    \n",
    "    return None\n",
    "\n",
    "# Terapkan fungsi untuk membuat kolom baru\n",
    "data['correct_answer'] = data['Output'].apply(extract_keyword_variable)\n",
    "\n"
   ]
  },
  {
   "cell_type": "markdown",
   "metadata": {},
   "source": [
    "## Save Data"
   ]
  },
  {
   "cell_type": "code",
   "execution_count": 34,
   "metadata": {},
   "outputs": [],
   "source": [
    "# Simpan dataset yang telah diproses\n",
    "data.to_csv('others_with_placeholders.csv', index=False)"
   ]
  },
  {
   "cell_type": "code",
   "execution_count": 35,
   "metadata": {},
   "outputs": [
    {
     "data": {
      "text/html": [
       "<div>\n",
       "<style scoped>\n",
       "    .dataframe tbody tr th:only-of-type {\n",
       "        vertical-align: middle;\n",
       "    }\n",
       "\n",
       "    .dataframe tbody tr th {\n",
       "        vertical-align: top;\n",
       "    }\n",
       "\n",
       "    .dataframe thead th {\n",
       "        text-align: right;\n",
       "    }\n",
       "</style>\n",
       "<table border=\"1\" class=\"dataframe\">\n",
       "  <thead>\n",
       "    <tr style=\"text-align: right;\">\n",
       "      <th></th>\n",
       "      <th>Instruction</th>\n",
       "      <th>Input</th>\n",
       "      <th>Output</th>\n",
       "      <th>materi</th>\n",
       "      <th>question_id</th>\n",
       "      <th>Template</th>\n",
       "      <th>correct_answer</th>\n",
       "    </tr>\n",
       "  </thead>\n",
       "  <tbody>\n",
       "    <tr>\n",
       "      <th>3</th>\n",
       "      <td>Write a python program to successfully insert ...</td>\n",
       "      <td>student_name = \"John Doe\"\\nstudent_age = 20</td>\n",
       "      <td>import sqlite3\\n\\nconn = sqlite3.connect(\"exam...</td>\n",
       "      <td>Lainnya</td>\n",
       "      <td>12</td>\n",
       "      <td>import ___\\n\\nconn = sqlite3.connect(\"example....</td>\n",
       "      <td>sqlite3</td>\n",
       "    </tr>\n",
       "    <tr>\n",
       "      <th>4</th>\n",
       "      <td>Create a web server in Python.</td>\n",
       "      <td>&lt;no input&gt;</td>\n",
       "      <td>import http.server\\nimport socketserver\\n\\nPOR...</td>\n",
       "      <td>Lainnya</td>\n",
       "      <td>20</td>\n",
       "      <td>import ___.server\\nimport socketserver\\n\\nPORT...</td>\n",
       "      <td>http</td>\n",
       "    </tr>\n",
       "    <tr>\n",
       "      <th>16</th>\n",
       "      <td>Write a Python program that takes a sentence a...</td>\n",
       "      <td>String: \"This, is a?! test* sentence.\"</td>\n",
       "      <td>import string\\n\\ndef removePunctuations(senten...</td>\n",
       "      <td>Lainnya</td>\n",
       "      <td>57</td>\n",
       "      <td>import ___\\n\\ndef removePunctuations(sentence)...</td>\n",
       "      <td>string</td>\n",
       "    </tr>\n",
       "    <tr>\n",
       "      <th>22</th>\n",
       "      <td>Write a Python program to solve a quadratic eq...</td>\n",
       "      <td>a = 1\\nb = -5\\nc = 6</td>\n",
       "      <td>import math\\n\\n# Solve the quadratic equation ...</td>\n",
       "      <td>Lainnya</td>\n",
       "      <td>93</td>\n",
       "      <td>import ___\\n\\n# Solve the quadratic equation a...</td>\n",
       "      <td>math</td>\n",
       "    </tr>\n",
       "    <tr>\n",
       "      <th>23</th>\n",
       "      <td>Write a Python code to tokenize the given sent...</td>\n",
       "      <td>This is a sample sentence</td>\n",
       "      <td>import nltk\\n\\nsentence = \"This is a sample se...</td>\n",
       "      <td>Lainnya</td>\n",
       "      <td>99</td>\n",
       "      <td>import ___\\n\\nsentence = \"This is a sample sen...</td>\n",
       "      <td>nltk</td>\n",
       "    </tr>\n",
       "  </tbody>\n",
       "</table>\n",
       "</div>"
      ],
      "text/plain": [
       "                                          Instruction  \\\n",
       "3   Write a python program to successfully insert ...   \n",
       "4                      Create a web server in Python.   \n",
       "16  Write a Python program that takes a sentence a...   \n",
       "22  Write a Python program to solve a quadratic eq...   \n",
       "23  Write a Python code to tokenize the given sent...   \n",
       "\n",
       "                                          Input  \\\n",
       "3   student_name = \"John Doe\"\\nstudent_age = 20   \n",
       "4                                    <no input>   \n",
       "16       String: \"This, is a?! test* sentence.\"   \n",
       "22                         a = 1\\nb = -5\\nc = 6   \n",
       "23                    This is a sample sentence   \n",
       "\n",
       "                                               Output   materi  question_id  \\\n",
       "3   import sqlite3\\n\\nconn = sqlite3.connect(\"exam...  Lainnya           12   \n",
       "4   import http.server\\nimport socketserver\\n\\nPOR...  Lainnya           20   \n",
       "16  import string\\n\\ndef removePunctuations(senten...  Lainnya           57   \n",
       "22  import math\\n\\n# Solve the quadratic equation ...  Lainnya           93   \n",
       "23  import nltk\\n\\nsentence = \"This is a sample se...  Lainnya           99   \n",
       "\n",
       "                                             Template correct_answer  \n",
       "3   import ___\\n\\nconn = sqlite3.connect(\"example....        sqlite3  \n",
       "4   import ___.server\\nimport socketserver\\n\\nPORT...           http  \n",
       "16  import ___\\n\\ndef removePunctuations(sentence)...         string  \n",
       "22  import ___\\n\\n# Solve the quadratic equation a...           math  \n",
       "23  import ___\\n\\nsentence = \"This is a sample sen...           nltk  "
      ]
     },
     "execution_count": 35,
     "metadata": {},
     "output_type": "execute_result"
    }
   ],
   "source": [
    "data.head()"
   ]
  }
 ],
 "metadata": {
  "kernelspec": {
   "display_name": "Python 3",
   "language": "python",
   "name": "python3"
  },
  "language_info": {
   "codemirror_mode": {
    "name": "ipython",
    "version": 3
   },
   "file_extension": ".py",
   "mimetype": "text/x-python",
   "name": "python",
   "nbconvert_exporter": "python",
   "pygments_lexer": "ipython3",
   "version": "3.11.0"
  }
 },
 "nbformat": 4,
 "nbformat_minor": 2
}
