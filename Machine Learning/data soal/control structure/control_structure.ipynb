{
 "cells": [
  {
   "cell_type": "markdown",
   "metadata": {},
   "source": [
    "## Import Library"
   ]
  },
  {
   "cell_type": "code",
   "execution_count": 1,
   "metadata": {},
   "outputs": [],
   "source": [
    "import pandas as pd\n",
    "import re"
   ]
  },
  {
   "cell_type": "markdown",
   "metadata": {},
   "source": [
    "## Load data"
   ]
  },
  {
   "cell_type": "code",
   "execution_count": 2,
   "metadata": {},
   "outputs": [
    {
     "data": {
      "text/html": [
       "<div>\n",
       "<style scoped>\n",
       "    .dataframe tbody tr th:only-of-type {\n",
       "        vertical-align: middle;\n",
       "    }\n",
       "\n",
       "    .dataframe tbody tr th {\n",
       "        vertical-align: top;\n",
       "    }\n",
       "\n",
       "    .dataframe thead th {\n",
       "        text-align: right;\n",
       "    }\n",
       "</style>\n",
       "<table border=\"1\" class=\"dataframe\">\n",
       "  <thead>\n",
       "    <tr style=\"text-align: right;\">\n",
       "      <th></th>\n",
       "      <th>Instruction</th>\n",
       "      <th>Input</th>\n",
       "      <th>Output</th>\n",
       "      <th>materi</th>\n",
       "      <th>question_id</th>\n",
       "    </tr>\n",
       "  </thead>\n",
       "  <tbody>\n",
       "    <tr>\n",
       "      <th>0</th>\n",
       "      <td>Create a Python program to check if an integer...</td>\n",
       "      <td>Integer : 10</td>\n",
       "      <td>def is_divisible_by_5(number):\\n    if (number...</td>\n",
       "      <td>Control Structure</td>\n",
       "      <td>3</td>\n",
       "    </tr>\n",
       "    <tr>\n",
       "      <th>1</th>\n",
       "      <td>Write a python program to check if two sequenc...</td>\n",
       "      <td>[1,2,3], [1,2,3]</td>\n",
       "      <td>def check_seq(seq1, seq2):\\n    if len (seq1) ...</td>\n",
       "      <td>Control Structure</td>\n",
       "      <td>32</td>\n",
       "    </tr>\n",
       "    <tr>\n",
       "      <th>2</th>\n",
       "      <td>Write a Python program to take user input and ...</td>\n",
       "      <td>racecar</td>\n",
       "      <td>def isPalindrome(inp):\\n inp = inp.lower()\\n r...</td>\n",
       "      <td>Control Structure</td>\n",
       "      <td>47</td>\n",
       "    </tr>\n",
       "    <tr>\n",
       "      <th>3</th>\n",
       "      <td>Create a _JSON serializer_ for a given Python ...</td>\n",
       "      <td>data = {\\n 'name': 'Alice',\\n 'age': 22,\\n 'ho...</td>\n",
       "      <td>import json\\n\\ndata = {\\n 'name': 'Alice',\\n '...</td>\n",
       "      <td>Control Structure</td>\n",
       "      <td>54</td>\n",
       "    </tr>\n",
       "    <tr>\n",
       "      <th>4</th>\n",
       "      <td>Write a Python script that uses recursion to c...</td>\n",
       "      <td>6</td>\n",
       "      <td>def Fibonacci(n): \\n   if n&lt;0: \\n      print(\"...</td>\n",
       "      <td>Control Structure</td>\n",
       "      <td>63</td>\n",
       "    </tr>\n",
       "  </tbody>\n",
       "</table>\n",
       "</div>"
      ],
      "text/plain": [
       "                                         Instruction  \\\n",
       "0  Create a Python program to check if an integer...   \n",
       "1  Write a python program to check if two sequenc...   \n",
       "2  Write a Python program to take user input and ...   \n",
       "3  Create a _JSON serializer_ for a given Python ...   \n",
       "4  Write a Python script that uses recursion to c...   \n",
       "\n",
       "                                               Input  \\\n",
       "0                                       Integer : 10   \n",
       "1                                   [1,2,3], [1,2,3]   \n",
       "2                                            racecar   \n",
       "3  data = {\\n 'name': 'Alice',\\n 'age': 22,\\n 'ho...   \n",
       "4                                                  6   \n",
       "\n",
       "                                              Output             materi  \\\n",
       "0  def is_divisible_by_5(number):\\n    if (number...  Control Structure   \n",
       "1  def check_seq(seq1, seq2):\\n    if len (seq1) ...  Control Structure   \n",
       "2  def isPalindrome(inp):\\n inp = inp.lower()\\n r...  Control Structure   \n",
       "3  import json\\n\\ndata = {\\n 'name': 'Alice',\\n '...  Control Structure   \n",
       "4  def Fibonacci(n): \\n   if n<0: \\n      print(\"...  Control Structure   \n",
       "\n",
       "   question_id  \n",
       "0            3  \n",
       "1           32  \n",
       "2           47  \n",
       "3           54  \n",
       "4           63  "
      ]
     },
     "execution_count": 2,
     "metadata": {},
     "output_type": "execute_result"
    }
   ],
   "source": [
    "file_path = r'C:\\Users\\user\\CAPSTONE-PROJEK---CODEY\\Machine Learning\\kategori soal\\control_structure.csv'\n",
    "\n",
    "data = pd.read_csv(file_path)\n",
    "\n",
    "data.head()"
   ]
  },
  {
   "cell_type": "code",
   "execution_count": 3,
   "metadata": {},
   "outputs": [],
   "source": [
    "data['Full Code'] = data['Output']\n"
   ]
  },
  {
   "cell_type": "code",
   "execution_count": 4,
   "metadata": {},
   "outputs": [],
   "source": [
    "def add_placeholder(code):\n",
    "    \"\"\"\n",
    "    Gantikan bagian tertentu dalam kode dengan placeholder '___'.\n",
    "    \"\"\"\n",
    "    # Pisahkan kode menjadi baris-baris\n",
    "    lines = code.split('\\n')\n",
    "    \n",
    "    # Pola regex yang akan dicari\n",
    "    patterns = [\n",
    "        r'\\b(if\\s+.*\\s*else|if\\s+\\(.*\\)\\s*{|\\belse\\b)\\b',  # if-else\n",
    "        r'\\bfor\\s+\\(.*\\)\\s*{|\\bfor\\s+.*\\s+in\\s+.*:\\b',     # for loop\n",
    "        r'\\bwhile\\s+\\(.*\\)\\s*{|\\bwhile\\s+.*\\s*:\\b',        # while loop\n",
    "        r'\\bswitch\\s+\\(.*\\)\\s*{|\\bcase\\b|\\bdefault\\b',      # switch-case\n",
    "        r'\\b(break|continue)\\b',                           # break/continue\n",
    "        r'\\breturn\\s+.*\\b',                                # return\n",
    "    ]\n",
    "\n",
    "    \n",
    "    # Ganti baris yang cocok dengan pola menjadi '___'\n",
    "    for i, line in enumerate(lines):\n",
    "        for pattern in patterns:\n",
    "            if re.search(pattern, line):\n",
    "                lines[i] = \"    ___\"  # Placeholder\n",
    "    return \"\\n\".join(lines)"
   ]
  },
  {
   "cell_type": "markdown",
   "metadata": {},
   "source": [
    "Menambah kolom Template untuk soal "
   ]
  },
  {
   "cell_type": "code",
   "execution_count": 5,
   "metadata": {},
   "outputs": [
    {
     "name": "stdout",
     "output_type": "stream",
     "text": [
      "def is_prime(n):\n",
      "    if n <= 1: \n",
      "    ___\n",
      "    if n == 2: \n",
      "    ___\n",
      "    if n > 2 and n % 2 == 0: \n",
      "    ___\n",
      "\n",
      "    sqrt_n = int(n**0.5)\n",
      "    for i in range(3, sqrt_n+1, 2):\n",
      "        if n % i == 0:\n",
      "    ___\n",
      "    ___\n",
      "\n",
      "if is_prime(37):\n",
      "    print('37 is a prime number!')\n"
     ]
    }
   ],
   "source": [
    "# Terapkan fungsi pada kolom 'Full Code'\n",
    "data['Template'] = data['Full Code'].apply(add_placeholder)\n",
    "print(data['Template'][7])\n"
   ]
  },
  {
   "cell_type": "markdown",
   "metadata": {},
   "source": [
    "Membuat fungsi untuk mengecek data soal memiliki placeholder"
   ]
  },
  {
   "cell_type": "code",
   "execution_count": 6,
   "metadata": {},
   "outputs": [],
   "source": [
    "def check_placeholder_in_column(df, column_name, placeholder=\"___\"):\n",
    "    \"\"\"\n",
    "    Cek apakah kolom tertentu dalam DataFrame mengandung placeholder.\n",
    "    \n",
    "    Args:\n",
    "        df (pd.DataFrame): DataFrame yang akan dicek.\n",
    "        column_name (str): Nama kolom yang akan diperiksa.\n",
    "        placeholder (str): Placeholder yang dicari (default: \"___\").\n",
    "    \n",
    "    Returns:\n",
    "        pd.Series: Kolom boolean (True jika ada placeholder, False jika tidak).\n",
    "    \"\"\"\n",
    "    return df[column_name].str.contains(placeholder, na=False)\n"
   ]
  },
  {
   "cell_type": "code",
   "execution_count": 7,
   "metadata": {},
   "outputs": [
    {
     "name": "stdout",
     "output_type": "stream",
     "text": [
      "has_placeholder\n",
      "True     307\n",
      "False    129\n",
      "Name: count, dtype: int64\n"
     ]
    }
   ],
   "source": [
    "data[\"has_placeholder\"] = check_placeholder_in_column(data, \"Template\")\n",
    "\n",
    "print(data[\"has_placeholder\"].value_counts())"
   ]
  },
  {
   "cell_type": "code",
   "execution_count": 8,
   "metadata": {},
   "outputs": [
    {
     "name": "stdout",
     "output_type": "stream",
     "text": [
      "has_placeholder\n",
      "True    307\n",
      "Name: count, dtype: int64\n"
     ]
    }
   ],
   "source": [
    "# Hapus baris dengan nilai False\n",
    "data = data[data[\"has_placeholder\"]]\n",
    "\n",
    "print(data[\"has_placeholder\"].value_counts())\n",
    "\n",
    "# Hapus kolom 'has_placeholder' jika tidak diperlukan lagi\n",
    "data = data.drop(columns=[\"has_placeholder\"])\n"
   ]
  },
  {
   "cell_type": "markdown",
   "metadata": {},
   "source": [
    "## Save Data"
   ]
  },
  {
   "cell_type": "code",
   "execution_count": 9,
   "metadata": {},
   "outputs": [],
   "source": [
    "# Simpan dataset yang telah diproses\n",
    "data.to_csv('data_structure_with_placeholders.csv', index=False)"
   ]
  },
  {
   "cell_type": "markdown",
   "metadata": {},
   "source": []
  }
 ],
 "metadata": {
  "kernelspec": {
   "display_name": "Python 3",
   "language": "python",
   "name": "python3"
  },
  "language_info": {
   "codemirror_mode": {
    "name": "ipython",
    "version": 3
   },
   "file_extension": ".py",
   "mimetype": "text/x-python",
   "name": "python",
   "nbconvert_exporter": "python",
   "pygments_lexer": "ipython3",
   "version": "3.11.0"
  }
 },
 "nbformat": 4,
 "nbformat_minor": 2
}
