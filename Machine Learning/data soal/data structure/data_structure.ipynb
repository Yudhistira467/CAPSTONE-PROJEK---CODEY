{
 "cells": [
  {
   "cell_type": "markdown",
   "metadata": {},
   "source": [
    "## Import Library"
   ]
  },
  {
   "cell_type": "code",
   "execution_count": 22,
   "metadata": {},
   "outputs": [],
   "source": [
    "import pandas as pd\n",
    "import re"
   ]
  },
  {
   "cell_type": "markdown",
   "metadata": {},
   "source": [
    "## Load data"
   ]
  },
  {
   "cell_type": "code",
   "execution_count": 23,
   "metadata": {},
   "outputs": [
    {
     "data": {
      "text/html": [
       "<div>\n",
       "<style scoped>\n",
       "    .dataframe tbody tr th:only-of-type {\n",
       "        vertical-align: middle;\n",
       "    }\n",
       "\n",
       "    .dataframe tbody tr th {\n",
       "        vertical-align: top;\n",
       "    }\n",
       "\n",
       "    .dataframe thead th {\n",
       "        text-align: right;\n",
       "    }\n",
       "</style>\n",
       "<table border=\"1\" class=\"dataframe\">\n",
       "  <thead>\n",
       "    <tr style=\"text-align: right;\">\n",
       "      <th></th>\n",
       "      <th>Instruction</th>\n",
       "      <th>Input</th>\n",
       "      <th>Output</th>\n",
       "      <th>materi</th>\n",
       "      <th>question_id</th>\n",
       "    </tr>\n",
       "  </thead>\n",
       "  <tbody>\n",
       "    <tr>\n",
       "      <th>0</th>\n",
       "      <td>Create a function in Python which takes a list...</td>\n",
       "      <td>[3, 4, 5]</td>\n",
       "      <td>def sum_squares(nums):\\n    result = 0\\n    fo...</td>\n",
       "      <td>Data Structure</td>\n",
       "      <td>0</td>\n",
       "    </tr>\n",
       "    <tr>\n",
       "      <th>1</th>\n",
       "      <td>Design a function in Python that sorts a list ...</td>\n",
       "      <td>['red', 'green', 'orange']</td>\n",
       "      <td>def sort_list_alphabetically(input_list): \\n  ...</td>\n",
       "      <td>Data Structure</td>\n",
       "      <td>1</td>\n",
       "    </tr>\n",
       "    <tr>\n",
       "      <th>2</th>\n",
       "      <td>Create a Python algorithm to calculate the tar...</td>\n",
       "      <td>subtrahend: 10\\nlist: [4, 3, 8, 6, 5]</td>\n",
       "      <td>def target_sum(subtrahend, lst):\\n    target_s...</td>\n",
       "      <td>Data Structure</td>\n",
       "      <td>4</td>\n",
       "    </tr>\n",
       "    <tr>\n",
       "      <th>3</th>\n",
       "      <td>Create a Python program to sort a list of tupl...</td>\n",
       "      <td>[(21, \"ABC\", 33), (9, \"XYZ\", 88), (67, \"MNO\", ...</td>\n",
       "      <td>def sort_tuple_list(tuple_list):\\n    sorted_t...</td>\n",
       "      <td>Data Structure</td>\n",
       "      <td>7</td>\n",
       "    </tr>\n",
       "    <tr>\n",
       "      <th>4</th>\n",
       "      <td>Please generate a Python script that calculate...</td>\n",
       "      <td>[4, 9, 3, 5]</td>\n",
       "      <td>def calculateMean(array):\\n    # sum up all el...</td>\n",
       "      <td>Data Structure</td>\n",
       "      <td>8</td>\n",
       "    </tr>\n",
       "  </tbody>\n",
       "</table>\n",
       "</div>"
      ],
      "text/plain": [
       "                                         Instruction  \\\n",
       "0  Create a function in Python which takes a list...   \n",
       "1  Design a function in Python that sorts a list ...   \n",
       "2  Create a Python algorithm to calculate the tar...   \n",
       "3  Create a Python program to sort a list of tupl...   \n",
       "4  Please generate a Python script that calculate...   \n",
       "\n",
       "                                               Input  \\\n",
       "0                                          [3, 4, 5]   \n",
       "1                         ['red', 'green', 'orange']   \n",
       "2              subtrahend: 10\\nlist: [4, 3, 8, 6, 5]   \n",
       "3  [(21, \"ABC\", 33), (9, \"XYZ\", 88), (67, \"MNO\", ...   \n",
       "4                                       [4, 9, 3, 5]   \n",
       "\n",
       "                                              Output          materi  \\\n",
       "0  def sum_squares(nums):\\n    result = 0\\n    fo...  Data Structure   \n",
       "1  def sort_list_alphabetically(input_list): \\n  ...  Data Structure   \n",
       "2  def target_sum(subtrahend, lst):\\n    target_s...  Data Structure   \n",
       "3  def sort_tuple_list(tuple_list):\\n    sorted_t...  Data Structure   \n",
       "4  def calculateMean(array):\\n    # sum up all el...  Data Structure   \n",
       "\n",
       "   question_id  \n",
       "0            0  \n",
       "1            1  \n",
       "2            4  \n",
       "3            7  \n",
       "4            8  "
      ]
     },
     "execution_count": 23,
     "metadata": {},
     "output_type": "execute_result"
    }
   ],
   "source": [
    "file_path = r'C:\\Users\\user\\CAPSTONE-PROJEK---CODEY\\Machine Learning\\kategori soal\\data_structure.csv'\n",
    "\n",
    "data = pd.read_csv(file_path)\n",
    "\n",
    "data.head()"
   ]
  },
  {
   "cell_type": "code",
   "execution_count": 24,
   "metadata": {},
   "outputs": [],
   "source": [
    "import re\n",
    "\n",
    "def add_placeholder(code):\n",
    "    \"\"\"\n",
    "    Gantikan bagian tertentu dalam kode dengan placeholder '___', kecuali baris yang mengandung kata 'def'.\n",
    "    \"\"\"\n",
    "    # Pisahkan kode menjadi baris-baris\n",
    "    lines = code.split('\\n')\n",
    "    \n",
    "    # Pola regex yang akan dicari\n",
    "    patterns = [\n",
    "        r'\\[\\s*(?:\\d+\\s*,\\s*)*\\d+\\s*\\]',  # List (termasuk elemen yang tidak hanya angka)\n",
    "        r'\\(\\s*(?:[^\\)]+\\s*,\\s*)*[^\\)]+\\s*\\)',     # Tuple (termasuk elemen yang tidak hanya angka)\n",
    "        r'\\{\\s*(?:\\s*\\'[^\\']+\\'\\s*:\\s*[^,}]+\\s*,\\s*)*\\s*\\'[^\\']+\\'\\s*:\\s*[^,}]+\\s*\\}',  # Dictionary\n",
    "        r'\\{\\s*(?:[^\\}]+\\s*,\\s*)*[^\\}]+\\s*\\}',     # Set (termasuk elemen yang tidak hanya angka)\n",
    "        r'\\.(append|pop|insert|remove)\\(',         # Stack, queue, atau operasi list lainnya\n",
    "    ]\n",
    "    \n",
    "    # Ganti baris yang cocok dengan pola menjadi '___', kecuali yang mengandung 'def'\n",
    "    # Ganti baris yang cocok dengan pola menjadi '___', kecuali jika mengandung 'print'\n",
    "    # Ganti baris yang cocok dengan pola menjadi '___', kecuali jika mengandung 'while'\n",
    "    for i, line in enumerate(lines):\n",
    "        # Cek apakah baris mengandung kata 'print'\n",
    "        if 'print()' or 'def' or 'while' not in line:\n",
    "            for pattern in patterns:\n",
    "                if re.search(pattern, line):\n",
    "                    lines[i] = re.sub(pattern, '___', line)  # Ganti dengan placeholder '___'\n",
    "    \n",
    "    # Gabungkan kembali baris-baris menjadi satu string\n",
    "    return \"\\n\".join(lines)\n"
   ]
  },
  {
   "cell_type": "markdown",
   "metadata": {},
   "source": [
    "Menambah kolom Template untuk soal "
   ]
  },
  {
   "cell_type": "code",
   "execution_count": 25,
   "metadata": {},
   "outputs": [
    {
     "name": "stdout",
     "output_type": "stream",
     "text": [
      "def sumoflist___: \n",
      "  sum = 0\n",
      "  for i in range___): \n",
      "    sum = sum + list[i] \n",
      "  \n",
      "  return sum\n",
      "\n",
      "list1 = ___ \n",
      "print___)\n",
      "def sumoflist(list): \n",
      "  sum = 0\n",
      "  for i in range(0, len(list)): \n",
      "    sum = sum + list[i] \n",
      "  \n",
      "  return sum\n",
      "\n",
      "list1 = [1, 4, 2, 5, 9] \n",
      "print(sumoflist(list1))\n"
     ]
    }
   ],
   "source": [
    "# Terapkan fungsi pada kolom 'Full Code'\n",
    "data['Template'] = data['Output'].apply(add_placeholder)\n",
    "print(data['Template'][10])\n",
    "print(data['Output'][10])\n",
    "\n"
   ]
  },
  {
   "cell_type": "markdown",
   "metadata": {},
   "source": [
    "Membuat fungsi untuk mengecek data soal memiliki placeholder"
   ]
  },
  {
   "cell_type": "code",
   "execution_count": 26,
   "metadata": {},
   "outputs": [],
   "source": [
    "def check_placeholder_in_column(df, column_name, placeholder=\"___\"):\n",
    "    \"\"\"\n",
    "    Cek apakah kolom tertentu dalam DataFrame mengandung placeholder.\n",
    "    \n",
    "    Args:\n",
    "        df (pd.DataFrame): DataFrame yang akan dicek.\n",
    "        column_name (str): Nama kolom yang akan diperiksa.\n",
    "        placeholder (str): Placeholder yang dicari (default: \"___\").\n",
    "    \n",
    "    Returns:\n",
    "        pd.Series: Kolom boolean (True jika ada placeholder, False jika tidak).\n",
    "    \"\"\"\n",
    "    return df[column_name].str.contains(placeholder, na=False)\n"
   ]
  },
  {
   "cell_type": "code",
   "execution_count": 27,
   "metadata": {},
   "outputs": [
    {
     "name": "stdout",
     "output_type": "stream",
     "text": [
      "has_placeholder\n",
      "True     2537\n",
      "False      44\n",
      "Name: count, dtype: int64\n"
     ]
    }
   ],
   "source": [
    "data[\"has_placeholder\"] = check_placeholder_in_column(data, \"Template\")\n",
    "\n",
    "print(data[\"has_placeholder\"].value_counts())"
   ]
  },
  {
   "cell_type": "code",
   "execution_count": 28,
   "metadata": {},
   "outputs": [
    {
     "name": "stdout",
     "output_type": "stream",
     "text": [
      "has_placeholder\n",
      "True    2537\n",
      "Name: count, dtype: int64\n"
     ]
    }
   ],
   "source": [
    "# Hapus baris dengan nilai False\n",
    "data = data[data[\"has_placeholder\"]]\n",
    "\n",
    "print(data[\"has_placeholder\"].value_counts())\n",
    "\n",
    "# Hapus kolom 'has_placeholder' jika tidak diperlukan lagi\n",
    "data = data.drop(columns=[\"has_placeholder\"])\n"
   ]
  },
  {
   "cell_type": "markdown",
   "metadata": {},
   "source": [
    "## Save Data"
   ]
  },
  {
   "cell_type": "code",
   "execution_count": 29,
   "metadata": {},
   "outputs": [],
   "source": [
    "# Simpan dataset yang telah diproses\n",
    "data.to_csv('data_structure_with_placeholders.csv', index=False)"
   ]
  },
  {
   "cell_type": "markdown",
   "metadata": {},
   "source": []
  }
 ],
 "metadata": {
  "kernelspec": {
   "display_name": "Python 3",
   "language": "python",
   "name": "python3"
  },
  "language_info": {
   "codemirror_mode": {
    "name": "ipython",
    "version": 3
   },
   "file_extension": ".py",
   "mimetype": "text/x-python",
   "name": "python",
   "nbconvert_exporter": "python",
   "pygments_lexer": "ipython3",
   "version": "3.11.0"
  }
 },
 "nbformat": 4,
 "nbformat_minor": 2
}
