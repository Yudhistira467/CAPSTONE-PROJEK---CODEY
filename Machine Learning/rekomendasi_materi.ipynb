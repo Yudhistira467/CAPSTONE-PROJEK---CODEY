{
 "cells": [
  {
   "cell_type": "markdown",
   "id": "a3dd04f3-76f5-41e2-b7cf-5efb130f7622",
   "metadata": {
    "id": "a3dd04f3-76f5-41e2-b7cf-5efb130f7622"
   },
   "source": [
    "# REKOMENDASI MATERI BERDASARKAN BANYAKNYA KESALAHAN USER SAAT MENJAWAB SOAL"
   ]
  },
  {
   "cell_type": "markdown",
   "id": "5e6fb8c2-0df4-40e3-acb6-87dfde1ba53c",
   "metadata": {
    "id": "5e6fb8c2-0df4-40e3-acb6-87dfde1ba53c"
   },
   "source": [
    "### IMPORT LIBRARY"
   ]
  },
  {
   "cell_type": "code",
   "execution_count": 2,
   "id": "hRBZojWSCD3i",
   "metadata": {
    "colab": {
     "base_uri": "https://localhost:8080/"
    },
    "collapsed": true,
    "id": "hRBZojWSCD3i",
    "outputId": "cc969e07-e106-4e0c-ee33-c462c83b30e6"
   },
   "outputs": [
    {
     "name": "stdout",
     "output_type": "stream",
     "text": [
      "Requirement already satisfied: keras-tuner in c:\\users\\user\\appdata\\local\\programs\\python\\python311\\lib\\site-packages (1.4.7)\n",
      "Requirement already satisfied: keras in c:\\users\\user\\appdata\\local\\programs\\python\\python311\\lib\\site-packages (from keras-tuner) (3.6.0)\n",
      "Requirement already satisfied: packaging in c:\\users\\user\\appdata\\roaming\\python\\python311\\site-packages (from keras-tuner) (24.2)\n",
      "Requirement already satisfied: requests in c:\\users\\user\\appdata\\local\\programs\\python\\python311\\lib\\site-packages (from keras-tuner) (2.32.3)\n",
      "Requirement already satisfied: kt-legacy in c:\\users\\user\\appdata\\local\\programs\\python\\python311\\lib\\site-packages (from keras-tuner) (1.0.5)\n",
      "Requirement already satisfied: absl-py in c:\\users\\user\\appdata\\local\\programs\\python\\python311\\lib\\site-packages (from keras->keras-tuner) (2.1.0)\n",
      "Requirement already satisfied: numpy in c:\\users\\user\\appdata\\local\\programs\\python\\python311\\lib\\site-packages (from keras->keras-tuner) (2.0.2)\n",
      "Requirement already satisfied: rich in c:\\users\\user\\appdata\\local\\programs\\python\\python311\\lib\\site-packages (from keras->keras-tuner) (13.9.4)\n",
      "Requirement already satisfied: namex in c:\\users\\user\\appdata\\local\\programs\\python\\python311\\lib\\site-packages (from keras->keras-tuner) (0.0.8)\n",
      "Requirement already satisfied: h5py in c:\\users\\user\\appdata\\local\\programs\\python\\python311\\lib\\site-packages (from keras->keras-tuner) (3.12.1)\n",
      "Requirement already satisfied: optree in c:\\users\\user\\appdata\\local\\programs\\python\\python311\\lib\\site-packages (from keras->keras-tuner) (0.13.1)\n",
      "Requirement already satisfied: ml-dtypes in c:\\users\\user\\appdata\\local\\programs\\python\\python311\\lib\\site-packages (from keras->keras-tuner) (0.4.1)\n",
      "Requirement already satisfied: charset-normalizer<4,>=2 in c:\\users\\user\\appdata\\local\\programs\\python\\python311\\lib\\site-packages (from requests->keras-tuner) (3.4.0)\n",
      "Requirement already satisfied: idna<4,>=2.5 in c:\\users\\user\\appdata\\local\\programs\\python\\python311\\lib\\site-packages (from requests->keras-tuner) (3.10)\n",
      "Requirement already satisfied: urllib3<3,>=1.21.1 in c:\\users\\user\\appdata\\local\\programs\\python\\python311\\lib\\site-packages (from requests->keras-tuner) (2.2.3)\n",
      "Requirement already satisfied: certifi>=2017.4.17 in c:\\users\\user\\appdata\\local\\programs\\python\\python311\\lib\\site-packages (from requests->keras-tuner) (2024.8.30)\n",
      "Requirement already satisfied: typing-extensions>=4.5.0 in c:\\users\\user\\appdata\\roaming\\python\\python311\\site-packages (from optree->keras->keras-tuner) (4.12.2)\n",
      "Requirement already satisfied: markdown-it-py>=2.2.0 in c:\\users\\user\\appdata\\local\\programs\\python\\python311\\lib\\site-packages (from rich->keras->keras-tuner) (3.0.0)\n",
      "Requirement already satisfied: pygments<3.0.0,>=2.13.0 in c:\\users\\user\\appdata\\roaming\\python\\python311\\site-packages (from rich->keras->keras-tuner) (2.18.0)\n",
      "Requirement already satisfied: mdurl~=0.1 in c:\\users\\user\\appdata\\local\\programs\\python\\python311\\lib\\site-packages (from markdown-it-py>=2.2.0->rich->keras->keras-tuner) (0.1.2)\n"
     ]
    }
   ],
   "source": [
    "!pip install keras-tuner\n"
   ]
  },
  {
   "cell_type": "code",
   "execution_count": 3,
   "id": "320cf3d7-0508-4269-8a1a-bf4b5ee7db96",
   "metadata": {
    "id": "320cf3d7-0508-4269-8a1a-bf4b5ee7db96"
   },
   "outputs": [],
   "source": [
    "import pandas as pd\n",
    "import numpy as np\n",
    "import re\n",
    "from sklearn.feature_extraction.text import TfidfVectorizer\n",
    "from sklearn.model_selection import train_test_split\n",
    "from sklearn.preprocessing import MinMaxScaler\n",
    "import tensorflow as tf\n",
    "from tensorflow.keras.models import Sequential\n",
    "from tensorflow.keras.layers import Input, Dense, Dropout, BatchNormalization\n",
    "from tensorflow.keras.regularizers import l2\n",
    "from tensorflow.keras.callbacks import EarlyStopping, ReduceLROnPlateau, ModelCheckpoint\n",
    "import keras_tuner as kt"
   ]
  },
  {
   "cell_type": "markdown",
   "id": "796d50c0-a6e3-49db-8d2a-d87bf01a0621",
   "metadata": {
    "id": "796d50c0-a6e3-49db-8d2a-d87bf01a0621"
   },
   "source": [
    "### LOAD DATASET"
   ]
  },
  {
   "cell_type": "code",
   "execution_count": 4,
   "id": "K1NSAvA8QqFN",
   "metadata": {
    "colab": {
     "base_uri": "https://localhost:8080/"
    },
    "id": "K1NSAvA8QqFN",
    "outputId": "1f4d6632-9485-4b55-95f8-e59f88b7e260"
   },
   "outputs": [],
   "source": [
    "# from google.colab import drive\n",
    "# drive.mount('/content/drive')"
   ]
  },
  {
   "cell_type": "code",
   "execution_count": 5,
   "id": "fb4eee13-cbc6-49ba-a836-b40993dd40a8",
   "metadata": {
    "id": "fb4eee13-cbc6-49ba-a836-b40993dd40a8"
   },
   "outputs": [],
   "source": [
    "# Dataset soal\n",
    "file_path='dataset\\Python Programming Questions Dataset.csv'\n",
    "data = pd.read_csv(file_path)\n",
    "\n",
    "# Tukar Input dan Output\n",
    "data['Corrected_Input'] = data['Output']\n",
    "data['Corrected_Output'] = data['Input']\n",
    "data['text'] = data['Instruction'] + \" \" + data['Corrected_Input'] + \" \" + data['Corrected_Output']\n",
    "\n",
    "# Menambah kolom materi\n",
    "def categorize_question(Instruction):\n",
    "    if re.search(r'\\b(print|hello world|basic)\\b', Instruction, re.IGNORECASE):\n",
    "        return 'Introduction Python'\n",
    "    elif re.search(r'\\b(\\+|\\-|\\*|\\/|\\%|\\*\\*|==|!=|<|>|<=|>=|=)\\b', Instruction):\n",
    "        return 'Operator'\n",
    "    elif re.search(r'\\b(int|float|string|bool|type)\\b', Instruction, re.IGNORECASE):\n",
    "        return 'Data Type'\n",
    "    elif re.search(r'\\b(list|tuple|dict|set|array)\\b', Instruction, re.IGNORECASE):\n",
    "        return 'Data Structure'\n",
    "    elif re.search(r'\\b(if|else|while|for|break|continue)\\b', Instruction, re.IGNORECASE):\n",
    "        return 'Control Structure'\n",
    "    elif re.search(r'\\b(def|function|return)\\b', Instruction, re.IGNORECASE):\n",
    "        return 'Function'\n",
    "    elif re.search(r'\\b(class|object|inheritance|method|self)\\b', Instruction, re.IGNORECASE):\n",
    "        return 'OOP'\n",
    "    else:\n",
    "        return 'Lainnya'\n",
    "\n",
    "# Menerapkan pada dataset\n",
    "data['materi'] = data['Instruction'].apply(categorize_question)\n",
    "\n",
    "# Menambahkan kolom ID soal\n",
    "data['question_id'] = data.index\n",
    "\n",
    "# Dataset dummy interaksi user\n",
    "interaction_data = {\n",
    "    'user_id': [1, 1, 2, 2, 3, 3, 3],\n",
    "    'question_id': [0, 1, 1, 2, 2, 3, 4],\n",
    "    'attempts': [3, 2, 4, 1, 3, 2, 1],\n",
    "    'correct': [1, 0, 1, 1, 1, 0, 1],\n",
    "    'duration': [30, 45, 60, 35, 50, 20, 25]\n",
    "}\n",
    "interaction_df = pd.DataFrame(interaction_data)\n",
    "\n",
    "# Menggabungkan interaksi dengan soal\n",
    "interaction_df = interaction_df.merge(data[['question_id', 'materi']], on='question_id', how='left')"
   ]
  },
  {
   "cell_type": "markdown",
   "id": "70c329ee-5ed2-442d-8160-44838a3ea285",
   "metadata": {
    "id": "70c329ee-5ed2-442d-8160-44838a3ea285"
   },
   "source": [
    "### PREPROCESSING DATA"
   ]
  },
  {
   "cell_type": "code",
   "execution_count": 6,
   "id": "13b93c9f",
   "metadata": {},
   "outputs": [
    {
     "name": "stdout",
     "output_type": "stream",
     "text": [
      "Instruction            0\n",
      "Input               5549\n",
      "Output                 0\n",
      "Corrected_Input        0\n",
      "Corrected_Output    5549\n",
      "text                5549\n",
      "materi                 0\n",
      "question_id            0\n",
      "dtype: int64\n",
      "0\n",
      "Instruction         0\n",
      "Input               0\n",
      "Output              0\n",
      "Corrected_Input     0\n",
      "Corrected_Output    0\n",
      "text                0\n",
      "materi              0\n",
      "question_id         0\n",
      "dtype: int64\n"
     ]
    }
   ],
   "source": [
    "print(data.isnull().sum())\n",
    "\n",
    "print(data.duplicated().sum())\n",
    "\n",
    "data = data.dropna()\n",
    "\n",
    "print(data.isnull().sum())\n"
   ]
  },
  {
   "cell_type": "code",
   "execution_count": 7,
   "id": "354ce67c-67d8-47f9-bae5-dec56a6116f4",
   "metadata": {
    "colab": {
     "base_uri": "https://localhost:8080/"
    },
    "id": "354ce67c-67d8-47f9-bae5-dec56a6116f4",
    "outputId": "605e4ea5-1616-45cb-c330-efb5bf7a2b72",
    "scrolled": true
   },
   "outputs": [
    {
     "name": "stdout",
     "output_type": "stream",
     "text": [
      "   question_id  attempts  correct  duration  avg_error_rate\n",
      "0            0       3.0      1.0      30.0             0.0\n",
      "1            1       3.0      0.5      52.5             0.5\n",
      "2            2       2.0      1.0      42.5             0.0\n",
      "3            3       2.0      0.0      20.0             1.0\n",
      "4            4       1.0      1.0      25.0             0.0\n"
     ]
    }
   ],
   "source": [
    "# Fitur interaksi user\n",
    "error_data = interaction_df.groupby('question_id').agg({\n",
    "    'attempts': 'mean',\n",
    "    'correct': 'mean',\n",
    "    'duration': 'mean'\n",
    "}).reset_index()\n",
    "\n",
    "# Hitung kesalahan per materi\n",
    "error_data['avg_error_rate'] = 1 - error_data['correct']\n",
    "print(error_data)\n",
    "\n",
    "# Representasi TF-IDF untuk teks\n",
    "tfidf = TfidfVectorizer(max_features=2000)\n",
    "tfidf_matrix = tfidf.fit_transform(data['text']).toarray()\n",
    "\n",
    "# Mendapatkan materi dengan kesalahan tertinggi\n",
    "top_error_materis = error_data.sort_values(by='avg_error_rate', ascending=False).head(5)\n",
    "\n",
    "# Menggabungkan fitur TF-IDF dengan kolom materi\n",
    "features = pd.DataFrame(tfidf_matrix)\n",
    "\n",
    "# Menambahkan kolom 'materi' ke dalam fitur\n",
    "features['materi'] = data['materi']\n",
    "\n",
    "# Encode target materi\n",
    "data['target'] = data['materi'].astype('category').cat.codes\n",
    "num_classes = len(data['target'].unique())\n",
    "\n",
    "# Split data menjadi train dan test\n",
    "X_train, X_test, y_train, y_test = train_test_split(features.drop('materi', axis=1), data['target'], test_size=0.2, random_state=42)\n",
    "\n",
    "# One-hot encoding untuk target\n",
    "y_train = tf.keras.utils.to_categorical(y_train, num_classes=num_classes)\n",
    "y_test = tf.keras.utils.to_categorical(y_test, num_classes=num_classes)"
   ]
  },
  {
   "cell_type": "markdown",
   "id": "2a990c72-53f6-4499-81cc-7fb1a8dcc32c",
   "metadata": {
    "id": "2a990c72-53f6-4499-81cc-7fb1a8dcc32c"
   },
   "source": [
    "\n",
    "### MEMBANGUN MODEL\n"
   ]
  },
  {
   "cell_type": "code",
   "execution_count": 8,
   "id": "0fa54690-32f0-4fbf-9c97-05d8fa80e860",
   "metadata": {
    "id": "0fa54690-32f0-4fbf-9c97-05d8fa80e860"
   },
   "outputs": [],
   "source": [
    "def build_model(hp):\n",
    "    model = tf.keras.Sequential()\n",
    "    model.add(Input(shape=(X_train.shape[1],)))\n",
    "    model.add(Dense(256, activation='relu', kernel_regularizer=l2(0.001)))\n",
    "    model.add(Dropout(0.5))\n",
    "    model.add(BatchNormalization())\n",
    "    model.add(Dense(128, activation='relu', kernel_regularizer=l2(0.001)))\n",
    "    model.add(Dropout(0.4))\n",
    "    model.add(BatchNormalization())\n",
    "    model.add(Dense(64, activation='relu', kernel_regularizer=l2(0.001)))\n",
    "    model.add(Dropout(0.4))\n",
    "    model.add(BatchNormalization())\n",
    "    model.add(Dense(y_train.shape[1], activation='softmax'))\n",
    "\n",
    "    model.compile(\n",
    "        optimizer=tf.keras.optimizers.RMSprop(\n",
    "            learning_rate=hp.Choice('learning_rate', values=[1e-2, 1e-3, 1e-4])\n",
    "        ),\n",
    "        loss='categorical_crossentropy',\n",
    "        metrics=['accuracy']\n",
    "    )\n",
    "    return model"
   ]
  },
  {
   "cell_type": "code",
   "execution_count": 9,
   "id": "0b4e685e-52eb-48a6-9131-8691938994c6",
   "metadata": {
    "colab": {
     "base_uri": "https://localhost:8080/"
    },
    "id": "0b4e685e-52eb-48a6-9131-8691938994c6",
    "outputId": "f414824b-f88f-40fd-d980-c86cc2ba4f88"
   },
   "outputs": [
    {
     "name": "stdout",
     "output_type": "stream",
     "text": [
      "Reloading Tuner from model_tuning\\CodeyApp_recommendation_system\\tuner0.json\n"
     ]
    }
   ],
   "source": [
    "# Hyperparameter tuning\n",
    "tuner = kt.RandomSearch(\n",
    "    build_model,\n",
    "    objective='val_accuracy',\n",
    "    max_trials=10,\n",
    "    executions_per_trial=2,\n",
    "    directory='model_tuning',\n",
    "    project_name='CodeyApp_recommendation_system'\n",
    ")\n",
    "\n",
    "\n",
    "# pencarian hyperparameter\n",
    "tuner.search(X_train, y_train, epochs=20, validation_data=(X_test, y_test),\n",
    "             callbacks=[EarlyStopping(monitor='val_loss', patience=3)])\n",
    "\n",
    "# Mendapatkan hyperparameter yang bagus\n",
    "best_hps = tuner.get_best_hyperparameters(num_trials=1)[0]\n",
    "model = tuner.hypermodel.build(best_hps)"
   ]
  },
  {
   "cell_type": "markdown",
   "id": "bc7995b1-6748-40a7-914b-07c80df10934",
   "metadata": {
    "id": "bc7995b1-6748-40a7-914b-07c80df10934"
   },
   "source": [
    "### TRAIN MODEL"
   ]
  },
  {
   "cell_type": "code",
   "execution_count": 10,
   "id": "5766b47e-91fb-4f78-bc69-a67f43428877",
   "metadata": {
    "colab": {
     "base_uri": "https://localhost:8080/"
    },
    "id": "5766b47e-91fb-4f78-bc69-a67f43428877",
    "outputId": "6e0a2378-e95b-440f-bb33-e1d3bbee88ba"
   },
   "outputs": [
    {
     "name": "stdout",
     "output_type": "stream",
     "text": [
      "Epoch 1/50\n",
      "\u001b[1m187/189\u001b[0m \u001b[32m━━━━━━━━━━━━━━━━━━━\u001b[0m\u001b[37m━\u001b[0m \u001b[1m0s\u001b[0m 42ms/step - accuracy: 0.2521 - loss: 2.8526\n",
      "Epoch 1: val_loss improved from inf to 2.01514, saving model to best_model.keras\n",
      "\u001b[1m189/189\u001b[0m \u001b[32m━━━━━━━━━━━━━━━━━━━━\u001b[0m\u001b[37m\u001b[0m \u001b[1m23s\u001b[0m 58ms/step - accuracy: 0.2543 - loss: 2.8455 - val_accuracy: 0.4259 - val_loss: 2.0151 - learning_rate: 0.0010\n",
      "Epoch 2/50\n",
      "\u001b[1m188/189\u001b[0m \u001b[32m━━━━━━━━━━━━━━━━━━━\u001b[0m\u001b[37m━\u001b[0m \u001b[1m0s\u001b[0m 27ms/step - accuracy: 0.6046 - loss: 1.6949\n",
      "Epoch 2: val_loss improved from 2.01514 to 1.57212, saving model to best_model.keras\n",
      "\u001b[1m189/189\u001b[0m \u001b[32m━━━━━━━━━━━━━━━━━━━━\u001b[0m\u001b[37m\u001b[0m \u001b[1m6s\u001b[0m 32ms/step - accuracy: 0.6047 - loss: 1.6943 - val_accuracy: 0.6667 - val_loss: 1.5721 - learning_rate: 0.0010\n",
      "Epoch 3/50\n",
      "\u001b[1m187/189\u001b[0m \u001b[32m━━━━━━━━━━━━━━━━━━━\u001b[0m\u001b[37m━\u001b[0m \u001b[1m0s\u001b[0m 29ms/step - accuracy: 0.6594 - loss: 1.4743\n",
      "Epoch 3: val_loss improved from 1.57212 to 1.27207, saving model to best_model.keras\n",
      "\u001b[1m189/189\u001b[0m \u001b[32m━━━━━━━━━━━━━━━━━━━━\u001b[0m\u001b[37m\u001b[0m \u001b[1m6s\u001b[0m 33ms/step - accuracy: 0.6596 - loss: 1.4734 - val_accuracy: 0.7097 - val_loss: 1.2721 - learning_rate: 0.0010\n",
      "Epoch 4/50\n",
      "\u001b[1m187/189\u001b[0m \u001b[32m━━━━━━━━━━━━━━━━━━━\u001b[0m\u001b[37m━\u001b[0m \u001b[1m0s\u001b[0m 27ms/step - accuracy: 0.7118 - loss: 1.2479\n",
      "Epoch 4: val_loss improved from 1.27207 to 1.09821, saving model to best_model.keras\n",
      "\u001b[1m189/189\u001b[0m \u001b[32m━━━━━━━━━━━━━━━━━━━━\u001b[0m\u001b[37m\u001b[0m \u001b[1m6s\u001b[0m 32ms/step - accuracy: 0.7117 - loss: 1.2476 - val_accuracy: 0.7520 - val_loss: 1.0982 - learning_rate: 0.0010\n",
      "Epoch 5/50\n",
      "\u001b[1m188/189\u001b[0m \u001b[32m━━━━━━━━━━━━━━━━━━━\u001b[0m\u001b[37m━\u001b[0m \u001b[1m0s\u001b[0m 22ms/step - accuracy: 0.7375 - loss: 1.1155\n",
      "Epoch 5: val_loss improved from 1.09821 to 1.01349, saving model to best_model.keras\n",
      "\u001b[1m189/189\u001b[0m \u001b[32m━━━━━━━━━━━━━━━━━━━━\u001b[0m\u001b[37m\u001b[0m \u001b[1m5s\u001b[0m 27ms/step - accuracy: 0.7374 - loss: 1.1155 - val_accuracy: 0.7804 - val_loss: 1.0135 - learning_rate: 0.0010\n",
      "Epoch 6/50\n",
      "\u001b[1m188/189\u001b[0m \u001b[32m━━━━━━━━━━━━━━━━━━━\u001b[0m\u001b[37m━\u001b[0m \u001b[1m0s\u001b[0m 23ms/step - accuracy: 0.7574 - loss: 1.0434\n",
      "Epoch 6: val_loss improved from 1.01349 to 0.97030, saving model to best_model.keras\n",
      "\u001b[1m189/189\u001b[0m \u001b[32m━━━━━━━━━━━━━━━━━━━━\u001b[0m\u001b[37m\u001b[0m \u001b[1m6s\u001b[0m 28ms/step - accuracy: 0.7574 - loss: 1.0433 - val_accuracy: 0.7831 - val_loss: 0.9703 - learning_rate: 0.0010\n",
      "Epoch 7/50\n",
      "\u001b[1m187/189\u001b[0m \u001b[32m━━━━━━━━━━━━━━━━━━━\u001b[0m\u001b[37m━\u001b[0m \u001b[1m0s\u001b[0m 22ms/step - accuracy: 0.7739 - loss: 0.9682\n",
      "Epoch 7: val_loss improved from 0.97030 to 0.92889, saving model to best_model.keras\n",
      "\u001b[1m189/189\u001b[0m \u001b[32m━━━━━━━━━━━━━━━━━━━━\u001b[0m\u001b[37m\u001b[0m \u001b[1m5s\u001b[0m 27ms/step - accuracy: 0.7738 - loss: 0.9685 - val_accuracy: 0.7798 - val_loss: 0.9289 - learning_rate: 0.0010\n",
      "Epoch 8/50\n",
      "\u001b[1m187/189\u001b[0m \u001b[32m━━━━━━━━━━━━━━━━━━━\u001b[0m\u001b[37m━\u001b[0m \u001b[1m0s\u001b[0m 26ms/step - accuracy: 0.7849 - loss: 0.9190\n",
      "Epoch 8: val_loss improved from 0.92889 to 0.89574, saving model to best_model.keras\n",
      "\u001b[1m189/189\u001b[0m \u001b[32m━━━━━━━━━━━━━━━━━━━━\u001b[0m\u001b[37m\u001b[0m \u001b[1m6s\u001b[0m 30ms/step - accuracy: 0.7849 - loss: 0.9191 - val_accuracy: 0.7963 - val_loss: 0.8957 - learning_rate: 0.0010\n",
      "Epoch 9/50\n",
      "\u001b[1m188/189\u001b[0m \u001b[32m━━━━━━━━━━━━━━━━━━━\u001b[0m\u001b[37m━\u001b[0m \u001b[1m0s\u001b[0m 23ms/step - accuracy: 0.7952 - loss: 0.8704\n",
      "Epoch 9: val_loss did not improve from 0.89574\n",
      "\u001b[1m189/189\u001b[0m \u001b[32m━━━━━━━━━━━━━━━━━━━━\u001b[0m\u001b[37m\u001b[0m \u001b[1m6s\u001b[0m 25ms/step - accuracy: 0.7951 - loss: 0.8704 - val_accuracy: 0.7950 - val_loss: 0.8963 - learning_rate: 0.0010\n",
      "Epoch 10/50\n",
      "\u001b[1m189/189\u001b[0m \u001b[32m━━━━━━━━━━━━━━━━━━━━\u001b[0m\u001b[37m\u001b[0m \u001b[1m0s\u001b[0m 28ms/step - accuracy: 0.8012 - loss: 0.8394\n",
      "Epoch 10: val_loss improved from 0.89574 to 0.86659, saving model to best_model.keras\n",
      "\u001b[1m189/189\u001b[0m \u001b[32m━━━━━━━━━━━━━━━━━━━━\u001b[0m\u001b[37m\u001b[0m \u001b[1m6s\u001b[0m 31ms/step - accuracy: 0.8012 - loss: 0.8395 - val_accuracy: 0.8009 - val_loss: 0.8666 - learning_rate: 0.0010\n",
      "Epoch 11/50\n",
      "\u001b[1m186/189\u001b[0m \u001b[32m━━━━━━━━━━━━━━━━━━━\u001b[0m\u001b[37m━\u001b[0m \u001b[1m0s\u001b[0m 19ms/step - accuracy: 0.8113 - loss: 0.8025\n",
      "Epoch 11: val_loss did not improve from 0.86659\n",
      "\u001b[1m189/189\u001b[0m \u001b[32m━━━━━━━━━━━━━━━━━━━━\u001b[0m\u001b[37m\u001b[0m \u001b[1m4s\u001b[0m 21ms/step - accuracy: 0.8111 - loss: 0.8027 - val_accuracy: 0.8022 - val_loss: 0.8680 - learning_rate: 0.0010\n",
      "Epoch 12/50\n",
      "\u001b[1m187/189\u001b[0m \u001b[32m━━━━━━━━━━━━━━━━━━━\u001b[0m\u001b[37m━\u001b[0m \u001b[1m0s\u001b[0m 19ms/step - accuracy: 0.8060 - loss: 0.7963\n",
      "Epoch 12: val_loss improved from 0.86659 to 0.82367, saving model to best_model.keras\n",
      "\u001b[1m189/189\u001b[0m \u001b[32m━━━━━━━━━━━━━━━━━━━━\u001b[0m\u001b[37m\u001b[0m \u001b[1m6s\u001b[0m 24ms/step - accuracy: 0.8059 - loss: 0.7967 - val_accuracy: 0.8029 - val_loss: 0.8237 - learning_rate: 0.0010\n",
      "Epoch 13/50\n",
      "\u001b[1m188/189\u001b[0m \u001b[32m━━━━━━━━━━━━━━━━━━━\u001b[0m\u001b[37m━\u001b[0m \u001b[1m0s\u001b[0m 20ms/step - accuracy: 0.8233 - loss: 0.7529\n",
      "Epoch 13: val_loss did not improve from 0.82367\n",
      "\u001b[1m189/189\u001b[0m \u001b[32m━━━━━━━━━━━━━━━━━━━━\u001b[0m\u001b[37m\u001b[0m \u001b[1m5s\u001b[0m 22ms/step - accuracy: 0.8233 - loss: 0.7530 - val_accuracy: 0.7989 - val_loss: 0.8379 - learning_rate: 0.0010\n",
      "Epoch 14/50\n",
      "\u001b[1m189/189\u001b[0m \u001b[32m━━━━━━━━━━━━━━━━━━━━\u001b[0m\u001b[37m\u001b[0m \u001b[1m0s\u001b[0m 22ms/step - accuracy: 0.8250 - loss: 0.7268\n",
      "Epoch 14: val_loss improved from 0.82367 to 0.81473, saving model to best_model.keras\n",
      "\u001b[1m189/189\u001b[0m \u001b[32m━━━━━━━━━━━━━━━━━━━━\u001b[0m\u001b[37m\u001b[0m \u001b[1m5s\u001b[0m 27ms/step - accuracy: 0.8250 - loss: 0.7269 - val_accuracy: 0.8069 - val_loss: 0.8147 - learning_rate: 0.0010\n",
      "Epoch 15/50\n",
      "\u001b[1m188/189\u001b[0m \u001b[32m━━━━━━━━━━━━━━━━━━━\u001b[0m\u001b[37m━\u001b[0m \u001b[1m0s\u001b[0m 31ms/step - accuracy: 0.8293 - loss: 0.7266\n",
      "Epoch 15: val_loss did not improve from 0.81473\n",
      "\u001b[1m189/189\u001b[0m \u001b[32m━━━━━━━━━━━━━━━━━━━━\u001b[0m\u001b[37m\u001b[0m \u001b[1m7s\u001b[0m 33ms/step - accuracy: 0.8293 - loss: 0.7267 - val_accuracy: 0.8036 - val_loss: 0.8267 - learning_rate: 0.0010\n",
      "Epoch 16/50\n",
      "\u001b[1m188/189\u001b[0m \u001b[32m━━━━━━━━━━━━━━━━━━━\u001b[0m\u001b[37m━\u001b[0m \u001b[1m0s\u001b[0m 21ms/step - accuracy: 0.8415 - loss: 0.6794\n",
      "Epoch 16: val_loss did not improve from 0.81473\n",
      "\u001b[1m189/189\u001b[0m \u001b[32m━━━━━━━━━━━━━━━━━━━━\u001b[0m\u001b[37m\u001b[0m \u001b[1m4s\u001b[0m 22ms/step - accuracy: 0.8414 - loss: 0.6799 - val_accuracy: 0.8062 - val_loss: 0.8285 - learning_rate: 0.0010\n",
      "Epoch 17/50\n",
      "\u001b[1m189/189\u001b[0m \u001b[32m━━━━━━━━━━━━━━━━━━━━\u001b[0m\u001b[37m\u001b[0m \u001b[1m0s\u001b[0m 22ms/step - accuracy: 0.8391 - loss: 0.6725\n",
      "Epoch 17: val_loss improved from 0.81473 to 0.81444, saving model to best_model.keras\n",
      "\u001b[1m189/189\u001b[0m \u001b[32m━━━━━━━━━━━━━━━━━━━━\u001b[0m\u001b[37m\u001b[0m \u001b[1m5s\u001b[0m 24ms/step - accuracy: 0.8390 - loss: 0.6727 - val_accuracy: 0.8082 - val_loss: 0.8144 - learning_rate: 0.0010\n",
      "Epoch 18/50\n",
      "\u001b[1m188/189\u001b[0m \u001b[32m━━━━━━━━━━━━━━━━━━━\u001b[0m\u001b[37m━\u001b[0m \u001b[1m0s\u001b[0m 25ms/step - accuracy: 0.8286 - loss: 0.6696\n",
      "Epoch 18: val_loss improved from 0.81444 to 0.80261, saving model to best_model.keras\n",
      "\u001b[1m189/189\u001b[0m \u001b[32m━━━━━━━━━━━━━━━━━━━━\u001b[0m\u001b[37m\u001b[0m \u001b[1m6s\u001b[0m 32ms/step - accuracy: 0.8285 - loss: 0.6699 - val_accuracy: 0.8075 - val_loss: 0.8026 - learning_rate: 0.0010\n",
      "Epoch 19/50\n",
      "\u001b[1m189/189\u001b[0m \u001b[32m━━━━━━━━━━━━━━━━━━━━\u001b[0m\u001b[37m\u001b[0m \u001b[1m0s\u001b[0m 23ms/step - accuracy: 0.8537 - loss: 0.6453\n",
      "Epoch 19: val_loss improved from 0.80261 to 0.79759, saving model to best_model.keras\n",
      "\u001b[1m189/189\u001b[0m \u001b[32m━━━━━━━━━━━━━━━━━━━━\u001b[0m\u001b[37m\u001b[0m \u001b[1m9s\u001b[0m 26ms/step - accuracy: 0.8536 - loss: 0.6454 - val_accuracy: 0.8155 - val_loss: 0.7976 - learning_rate: 0.0010\n",
      "Epoch 20/50\n",
      "\u001b[1m189/189\u001b[0m \u001b[32m━━━━━━━━━━━━━━━━━━━━\u001b[0m\u001b[37m\u001b[0m \u001b[1m0s\u001b[0m 23ms/step - accuracy: 0.8500 - loss: 0.6252\n",
      "Epoch 20: val_loss improved from 0.79759 to 0.79072, saving model to best_model.keras\n",
      "\u001b[1m189/189\u001b[0m \u001b[32m━━━━━━━━━━━━━━━━━━━━\u001b[0m\u001b[37m\u001b[0m \u001b[1m5s\u001b[0m 27ms/step - accuracy: 0.8500 - loss: 0.6254 - val_accuracy: 0.8049 - val_loss: 0.7907 - learning_rate: 0.0010\n",
      "Epoch 21/50\n",
      "\u001b[1m189/189\u001b[0m \u001b[32m━━━━━━━━━━━━━━━━━━━━\u001b[0m\u001b[37m\u001b[0m \u001b[1m0s\u001b[0m 25ms/step - accuracy: 0.8446 - loss: 0.6584\n",
      "Epoch 21: val_loss did not improve from 0.79072\n",
      "\u001b[1m189/189\u001b[0m \u001b[32m━━━━━━━━━━━━━━━━━━━━\u001b[0m\u001b[37m\u001b[0m \u001b[1m6s\u001b[0m 28ms/step - accuracy: 0.8445 - loss: 0.6585 - val_accuracy: 0.8142 - val_loss: 0.7978 - learning_rate: 0.0010\n",
      "Epoch 22/50\n",
      "\u001b[1m189/189\u001b[0m \u001b[32m━━━━━━━━━━━━━━━━━━━━\u001b[0m\u001b[37m\u001b[0m \u001b[1m0s\u001b[0m 24ms/step - accuracy: 0.8529 - loss: 0.6053\n",
      "Epoch 22: val_loss did not improve from 0.79072\n",
      "\u001b[1m189/189\u001b[0m \u001b[32m━━━━━━━━━━━━━━━━━━━━\u001b[0m\u001b[37m\u001b[0m \u001b[1m6s\u001b[0m 27ms/step - accuracy: 0.8528 - loss: 0.6056 - val_accuracy: 0.8075 - val_loss: 0.7969 - learning_rate: 0.0010\n",
      "Epoch 23/50\n",
      "\u001b[1m187/189\u001b[0m \u001b[32m━━━━━━━━━━━━━━━━━━━\u001b[0m\u001b[37m━\u001b[0m \u001b[1m0s\u001b[0m 18ms/step - accuracy: 0.8306 - loss: 0.6741\n",
      "Epoch 23: val_loss improved from 0.79072 to 0.78093, saving model to best_model.keras\n",
      "\u001b[1m189/189\u001b[0m \u001b[32m━━━━━━━━━━━━━━━━━━━━\u001b[0m\u001b[37m\u001b[0m \u001b[1m5s\u001b[0m 20ms/step - accuracy: 0.8306 - loss: 0.6742 - val_accuracy: 0.8089 - val_loss: 0.7809 - learning_rate: 0.0010\n",
      "Epoch 24/50\n",
      "\u001b[1m187/189\u001b[0m \u001b[32m━━━━━━━━━━━━━━━━━━━\u001b[0m\u001b[37m━\u001b[0m \u001b[1m0s\u001b[0m 25ms/step - accuracy: 0.8463 - loss: 0.6511\n",
      "Epoch 24: val_loss did not improve from 0.78093\n",
      "\u001b[1m189/189\u001b[0m \u001b[32m━━━━━━━━━━━━━━━━━━━━\u001b[0m\u001b[37m\u001b[0m \u001b[1m7s\u001b[0m 29ms/step - accuracy: 0.8463 - loss: 0.6511 - val_accuracy: 0.8029 - val_loss: 0.8140 - learning_rate: 0.0010\n",
      "Epoch 25/50\n",
      "\u001b[1m189/189\u001b[0m \u001b[32m━━━━━━━━━━━━━━━━━━━━\u001b[0m\u001b[37m\u001b[0m \u001b[1m0s\u001b[0m 26ms/step - accuracy: 0.8506 - loss: 0.6151\n",
      "Epoch 25: val_loss did not improve from 0.78093\n",
      "\u001b[1m189/189\u001b[0m \u001b[32m━━━━━━━━━━━━━━━━━━━━\u001b[0m\u001b[37m\u001b[0m \u001b[1m6s\u001b[0m 30ms/step - accuracy: 0.8506 - loss: 0.6153 - val_accuracy: 0.8082 - val_loss: 0.7879 - learning_rate: 0.0010\n",
      "Epoch 26/50\n",
      "\u001b[1m189/189\u001b[0m \u001b[32m━━━━━━━━━━━━━━━━━━━━\u001b[0m\u001b[37m\u001b[0m \u001b[1m0s\u001b[0m 28ms/step - accuracy: 0.8484 - loss: 0.6214\n",
      "Epoch 26: ReduceLROnPlateau reducing learning rate to 0.0005000000237487257.\n",
      "\n",
      "Epoch 26: val_loss did not improve from 0.78093\n",
      "\u001b[1m189/189\u001b[0m \u001b[32m━━━━━━━━━━━━━━━━━━━━\u001b[0m\u001b[37m\u001b[0m \u001b[1m11s\u001b[0m 30ms/step - accuracy: 0.8484 - loss: 0.6215 - val_accuracy: 0.8029 - val_loss: 0.7840 - learning_rate: 0.0010\n",
      "Epoch 27/50\n",
      "\u001b[1m188/189\u001b[0m \u001b[32m━━━━━━━━━━━━━━━━━━━\u001b[0m\u001b[37m━\u001b[0m \u001b[1m0s\u001b[0m 24ms/step - accuracy: 0.8672 - loss: 0.5653\n",
      "Epoch 27: val_loss improved from 0.78093 to 0.77269, saving model to best_model.keras\n",
      "\u001b[1m189/189\u001b[0m \u001b[32m━━━━━━━━━━━━━━━━━━━━\u001b[0m\u001b[37m\u001b[0m \u001b[1m5s\u001b[0m 28ms/step - accuracy: 0.8671 - loss: 0.5655 - val_accuracy: 0.8142 - val_loss: 0.7727 - learning_rate: 5.0000e-04\n",
      "Epoch 28/50\n",
      "\u001b[1m188/189\u001b[0m \u001b[32m━━━━━━━━━━━━━━━━━━━\u001b[0m\u001b[37m━\u001b[0m \u001b[1m0s\u001b[0m 31ms/step - accuracy: 0.8653 - loss: 0.5689\n",
      "Epoch 28: val_loss did not improve from 0.77269\n",
      "\u001b[1m189/189\u001b[0m \u001b[32m━━━━━━━━━━━━━━━━━━━━\u001b[0m\u001b[37m\u001b[0m \u001b[1m7s\u001b[0m 33ms/step - accuracy: 0.8653 - loss: 0.5688 - val_accuracy: 0.8241 - val_loss: 0.7789 - learning_rate: 5.0000e-04\n",
      "Epoch 29/50\n",
      "\u001b[1m185/189\u001b[0m \u001b[32m━━━━━━━━━━━━━━━━━━━\u001b[0m\u001b[37m━\u001b[0m \u001b[1m0s\u001b[0m 19ms/step - accuracy: 0.8720 - loss: 0.5253\n",
      "Epoch 29: val_loss did not improve from 0.77269\n",
      "\u001b[1m189/189\u001b[0m \u001b[32m━━━━━━━━━━━━━━━━━━━━\u001b[0m\u001b[37m\u001b[0m \u001b[1m8s\u001b[0m 20ms/step - accuracy: 0.8719 - loss: 0.5256 - val_accuracy: 0.8181 - val_loss: 0.7794 - learning_rate: 5.0000e-04\n",
      "Epoch 30/50\n",
      "\u001b[1m186/189\u001b[0m \u001b[32m━━━━━━━━━━━━━━━━━━━\u001b[0m\u001b[37m━\u001b[0m \u001b[1m0s\u001b[0m 14ms/step - accuracy: 0.8887 - loss: 0.4827\n",
      "Epoch 30: ReduceLROnPlateau reducing learning rate to 0.0002500000118743628.\n",
      "\n",
      "Epoch 30: val_loss did not improve from 0.77269\n",
      "\u001b[1m189/189\u001b[0m \u001b[32m━━━━━━━━━━━━━━━━━━━━\u001b[0m\u001b[37m\u001b[0m \u001b[1m3s\u001b[0m 16ms/step - accuracy: 0.8886 - loss: 0.4829 - val_accuracy: 0.8181 - val_loss: 0.7940 - learning_rate: 5.0000e-04\n",
      "Epoch 31/50\n",
      "\u001b[1m188/189\u001b[0m \u001b[32m━━━━━━━━━━━━━━━━━━━\u001b[0m\u001b[37m━\u001b[0m \u001b[1m0s\u001b[0m 17ms/step - accuracy: 0.8914 - loss: 0.4740\n",
      "Epoch 31: val_loss did not improve from 0.77269\n",
      "\u001b[1m189/189\u001b[0m \u001b[32m━━━━━━━━━━━━━━━━━━━━\u001b[0m\u001b[37m\u001b[0m \u001b[1m4s\u001b[0m 18ms/step - accuracy: 0.8914 - loss: 0.4740 - val_accuracy: 0.8214 - val_loss: 0.7826 - learning_rate: 2.5000e-04\n",
      "Epoch 32/50\n",
      "\u001b[1m189/189\u001b[0m \u001b[32m━━━━━━━━━━━━━━━━━━━━\u001b[0m\u001b[37m\u001b[0m \u001b[1m0s\u001b[0m 16ms/step - accuracy: 0.8941 - loss: 0.4597\n",
      "Epoch 32: val_loss did not improve from 0.77269\n",
      "\u001b[1m189/189\u001b[0m \u001b[32m━━━━━━━━━━━━━━━━━━━━\u001b[0m\u001b[37m\u001b[0m \u001b[1m5s\u001b[0m 19ms/step - accuracy: 0.8941 - loss: 0.4597 - val_accuracy: 0.8234 - val_loss: 0.7884 - learning_rate: 2.5000e-04\n"
     ]
    }
   ],
   "source": [
    "# Callbacks\n",
    "callbacks = [\n",
    "    EarlyStopping(monitor='val_loss', patience=5, restore_best_weights=True),\n",
    "    ReduceLROnPlateau(monitor='val_loss', factor=0.5, patience=3, min_lr=1e-6, verbose=1),\n",
    "    ModelCheckpoint('best_model.keras', save_best_only=True, monitor='val_loss', verbose=1)\n",
    "]\n",
    "\n",
    "# Training model\n",
    "history = model.fit(\n",
    "    X_train, y_train,\n",
    "    epochs=50,\n",
    "    batch_size=32,\n",
    "    validation_data=(X_test, y_test),\n",
    "    callbacks=callbacks\n",
    ")"
   ]
  },
  {
   "cell_type": "code",
   "execution_count": 11,
   "id": "34620679-42c3-47c9-b359-19555f90a069",
   "metadata": {
    "colab": {
     "base_uri": "https://localhost:8080/"
    },
    "id": "34620679-42c3-47c9-b359-19555f90a069",
    "outputId": "2560f30c-4fa8-46f5-b508-bad81cfc4b6c"
   },
   "outputs": [
    {
     "name": "stderr",
     "output_type": "stream",
     "text": [
      "WARNING:absl:Compiled the loaded model, but the compiled metrics have yet to be built. `model.compile_metrics` will be empty until you train or evaluate the model.\n"
     ]
    },
    {
     "name": "stdout",
     "output_type": "stream",
     "text": [
      "\u001b[1m48/48\u001b[0m \u001b[32m━━━━━━━━━━━━━━━━━━━━\u001b[0m\u001b[37m\u001b[0m \u001b[1m2s\u001b[0m 10ms/step - accuracy: 0.8312 - loss: 0.7163\n",
      "Test Loss: 0.774288535118103\n",
      "Test Accuracy: 0.8154761791229248\n"
     ]
    }
   ],
   "source": [
    "# Load best model yang tersimpan\n",
    "model = tf.keras.models.load_model('best_model.h5')\n",
    "\n",
    "# Evaluate model\n",
    "loss, accuracy = model.evaluate(X_test, y_test)\n",
    "print(f\"Test Loss: {loss}\")\n",
    "print(f\"Test Accuracy: {accuracy}\")"
   ]
  },
  {
   "cell_type": "markdown",
   "id": "cc153439-080e-495f-ab10-c19e19162386",
   "metadata": {
    "id": "cc153439-080e-495f-ab10-c19e19162386"
   },
   "source": [
    "### PLOTTING"
   ]
  },
  {
   "cell_type": "code",
   "execution_count": 12,
   "id": "75965865-c22d-4d53-b778-600c733823ac",
   "metadata": {
    "colab": {
     "base_uri": "https://localhost:8080/",
     "height": 887
    },
    "id": "75965865-c22d-4d53-b778-600c733823ac",
    "outputId": "2fad1361-a89c-499b-e61f-d66f41222090"
   },
   "outputs": [
    {
     "data": {
      "image/png": "[encoded data removed]",
      "text/plain": [
       "<Figure size 640x480 with 1 Axes>"
      ]
     },
     "metadata": {},
     "output_type": "display_data"
    },
    {
     "data": {
      "image/png": "[encoded data removed]",
      "text/plain": [
       "<Figure size 640x480 with 1 Axes>"
      ]
     },
     "metadata": {},
     "output_type": "display_data"
    }
   ],
   "source": [
    "import matplotlib.pyplot as plt\n",
    "\n",
    "# Plot accuracy\n",
    "plt.plot(history.history['accuracy'], label='Training Accuracy')\n",
    "plt.plot(history.history['val_accuracy'], label='Validation Accuracy')\n",
    "plt.legend()\n",
    "plt.title('Accuracy')\n",
    "plt.show()\n",
    "\n",
    "# Plot loss\n",
    "plt.plot(history.history['loss'], label='Training Loss')\n",
    "plt.plot(history.history['val_loss'], label='Validation Loss')\n",
    "plt.legend()\n",
    "plt.title('Loss')\n",
    "plt.show()\n"
   ]
  },
  {
   "cell_type": "markdown",
   "id": "598ea036-c2bb-4741-9cd1-9f8080de16da",
   "metadata": {
    "id": "598ea036-c2bb-4741-9cd1-9f8080de16da"
   },
   "source": [
    "### MEMBANGUN REKOMENDASI"
   ]
  },
  {
   "cell_type": "code",
   "execution_count": 13,
   "id": "48c647f5-f8dd-4c02-b02a-4b9417b97c53",
   "metadata": {
    "colab": {
     "base_uri": "https://localhost:8080/"
    },
    "id": "48c647f5-f8dd-4c02-b02a-4b9417b97c53",
    "outputId": "f38d0844-fb8c-406b-891f-ee972e5f79f0"
   },
   "outputs": [
    {
     "name": "stdout",
     "output_type": "stream",
     "text": [
      "Materi yang perlu dipelajari lebih lanjut (berdasarkan kesalahan siswa):\n",
      "           materi  avg_error_rate\n",
      "0  Data Structure            0.25\n"
     ]
    }
   ],
   "source": [
    "# Menghitung rata-rata kesalahan per materi\n",
    "avg_error_per_materi = error_data.groupby(data['materi'])['avg_error_rate'].mean().reset_index()\n",
    "\n",
    "# Mengurutkan materi berdasarkan tingkat kesalahan tertinggi\n",
    "recommended_materials = avg_error_per_materi.sort_values(by='avg_error_rate', ascending=False)\n",
    "\n",
    "# Tampilkan 5 materi dengan tingkat kesalahan tertinggi\n",
    "print(\"Materi yang perlu dipelajari lebih lanjut (berdasarkan kesalahan siswa):\")\n",
    "print(recommended_materials.head())"
   ]
  },
  {
   "cell_type": "code",
   "execution_count": 14,
   "id": "63c2712e-6d05-43e1-a7ce-f73ab36a06f9",
   "metadata": {
    "colab": {
     "base_uri": "https://localhost:8080/"
    },
    "id": "63c2712e-6d05-43e1-a7ce-f73ab36a06f9",
    "outputId": "4b6694ab-9b79-4efb-e61e-a4f5c64ab9f0"
   },
   "outputs": [
    {
     "ename": "ValueError",
     "evalue": "All arrays must be of the same length",
     "output_type": "error",
     "traceback": [
      "\u001b[1;31m---------------------------------------------------------------------------\u001b[0m",
      "\u001b[1;31mValueError\u001b[0m                                Traceback (most recent call last)",
      "Cell \u001b[1;32mIn[14], line 11\u001b[0m\n\u001b[0;32m      1\u001b[0m \u001b[38;5;66;03m# Misalnya, prediksi materi untuk user berdasarkan interaksi mereka\u001b[39;00m\n\u001b[0;32m      2\u001b[0m \u001b[38;5;66;03m# Data interaksi yang relevan\u001b[39;00m\n\u001b[0;32m      3\u001b[0m user_interaction \u001b[38;5;241m=\u001b[39m {\n\u001b[0;32m      4\u001b[0m     \u001b[38;5;124m'\u001b[39m\u001b[38;5;124muser_id\u001b[39m\u001b[38;5;124m'\u001b[39m: [\u001b[38;5;241m4\u001b[39m, \u001b[38;5;241m4\u001b[39m, \u001b[38;5;241m4\u001b[39m, \u001b[38;5;241m4\u001b[39m, \u001b[38;5;241m4\u001b[39m, \u001b[38;5;241m4\u001b[39m, \u001b[38;5;241m4\u001b[39m, \u001b[38;5;241m4\u001b[39m],\n\u001b[0;32m      5\u001b[0m     \u001b[38;5;124m'\u001b[39m\u001b[38;5;124mquestion_id\u001b[39m\u001b[38;5;124m'\u001b[39m: [\u001b[38;5;241m3\u001b[39m, \u001b[38;5;241m4\u001b[39m, \u001b[38;5;241m10\u001b[39m, \u001b[38;5;241m14\u001b[39m, \u001b[38;5;241m2\u001b[39m, \u001b[38;5;241m19\u001b[39m, \u001b[38;5;241m18\u001b[39m],\n\u001b[1;32m   (...)\u001b[0m\n\u001b[0;32m      8\u001b[0m     \u001b[38;5;124m'\u001b[39m\u001b[38;5;124mduration\u001b[39m\u001b[38;5;124m'\u001b[39m: [\u001b[38;5;241m59\u001b[39m, \u001b[38;5;241m30\u001b[39m, \u001b[38;5;241m35\u001b[39m, \u001b[38;5;241m20\u001b[39m, \u001b[38;5;241m20\u001b[39m, \u001b[38;5;241m20\u001b[39m, \u001b[38;5;241m20\u001b[39m,\u001b[38;5;241m20\u001b[39m]\n\u001b[0;32m      9\u001b[0m }\n\u001b[1;32m---> 11\u001b[0m user_interaction_df \u001b[38;5;241m=\u001b[39m \u001b[43mpd\u001b[49m\u001b[38;5;241;43m.\u001b[39;49m\u001b[43mDataFrame\u001b[49m\u001b[43m(\u001b[49m\u001b[43muser_interaction\u001b[49m\u001b[43m)\u001b[49m\n\u001b[0;32m     12\u001b[0m user_interaction_df \u001b[38;5;241m=\u001b[39m user_interaction_df\u001b[38;5;241m.\u001b[39mmerge(data[[\u001b[38;5;124m'\u001b[39m\u001b[38;5;124mquestion_id\u001b[39m\u001b[38;5;124m'\u001b[39m, \u001b[38;5;124m'\u001b[39m\u001b[38;5;124mmateri\u001b[39m\u001b[38;5;124m'\u001b[39m]], on\u001b[38;5;241m=\u001b[39m\u001b[38;5;124m'\u001b[39m\u001b[38;5;124mquestion_id\u001b[39m\u001b[38;5;124m'\u001b[39m, how\u001b[38;5;241m=\u001b[39m\u001b[38;5;124m'\u001b[39m\u001b[38;5;124mleft\u001b[39m\u001b[38;5;124m'\u001b[39m)\n\u001b[0;32m     14\u001b[0m \u001b[38;5;66;03m# Hitung rata-rata kesalahan per materi\u001b[39;00m\n",
      "File \u001b[1;32mc:\\Users\\user\\AppData\\Local\\Programs\\Python\\Python311\\Lib\\site-packages\\pandas\\core\\frame.py:778\u001b[0m, in \u001b[0;36mDataFrame.__init__\u001b[1;34m(self, data, index, columns, dtype, copy)\u001b[0m\n\u001b[0;32m    772\u001b[0m     mgr \u001b[38;5;241m=\u001b[39m \u001b[38;5;28mself\u001b[39m\u001b[38;5;241m.\u001b[39m_init_mgr(\n\u001b[0;32m    773\u001b[0m         data, axes\u001b[38;5;241m=\u001b[39m{\u001b[38;5;124m\"\u001b[39m\u001b[38;5;124mindex\u001b[39m\u001b[38;5;124m\"\u001b[39m: index, \u001b[38;5;124m\"\u001b[39m\u001b[38;5;124mcolumns\u001b[39m\u001b[38;5;124m\"\u001b[39m: columns}, dtype\u001b[38;5;241m=\u001b[39mdtype, copy\u001b[38;5;241m=\u001b[39mcopy\n\u001b[0;32m    774\u001b[0m     )\n\u001b[0;32m    776\u001b[0m \u001b[38;5;28;01melif\u001b[39;00m \u001b[38;5;28misinstance\u001b[39m(data, \u001b[38;5;28mdict\u001b[39m):\n\u001b[0;32m    777\u001b[0m     \u001b[38;5;66;03m# GH#38939 de facto copy defaults to False only in non-dict cases\u001b[39;00m\n\u001b[1;32m--> 778\u001b[0m     mgr \u001b[38;5;241m=\u001b[39m \u001b[43mdict_to_mgr\u001b[49m\u001b[43m(\u001b[49m\u001b[43mdata\u001b[49m\u001b[43m,\u001b[49m\u001b[43m \u001b[49m\u001b[43mindex\u001b[49m\u001b[43m,\u001b[49m\u001b[43m \u001b[49m\u001b[43mcolumns\u001b[49m\u001b[43m,\u001b[49m\u001b[43m \u001b[49m\u001b[43mdtype\u001b[49m\u001b[38;5;241;43m=\u001b[39;49m\u001b[43mdtype\u001b[49m\u001b[43m,\u001b[49m\u001b[43m \u001b[49m\u001b[43mcopy\u001b[49m\u001b[38;5;241;43m=\u001b[39;49m\u001b[43mcopy\u001b[49m\u001b[43m,\u001b[49m\u001b[43m \u001b[49m\u001b[43mtyp\u001b[49m\u001b[38;5;241;43m=\u001b[39;49m\u001b[43mmanager\u001b[49m\u001b[43m)\u001b[49m\n\u001b[0;32m    779\u001b[0m \u001b[38;5;28;01melif\u001b[39;00m \u001b[38;5;28misinstance\u001b[39m(data, ma\u001b[38;5;241m.\u001b[39mMaskedArray):\n\u001b[0;32m    780\u001b[0m     \u001b[38;5;28;01mfrom\u001b[39;00m \u001b[38;5;21;01mnumpy\u001b[39;00m\u001b[38;5;21;01m.\u001b[39;00m\u001b[38;5;21;01mma\u001b[39;00m \u001b[38;5;28;01mimport\u001b[39;00m mrecords\n",
      "File \u001b[1;32mc:\\Users\\user\\AppData\\Local\\Programs\\Python\\Python311\\Lib\\site-packages\\pandas\\core\\internals\\construction.py:503\u001b[0m, in \u001b[0;36mdict_to_mgr\u001b[1;34m(data, index, columns, dtype, typ, copy)\u001b[0m\n\u001b[0;32m    499\u001b[0m     \u001b[38;5;28;01melse\u001b[39;00m:\n\u001b[0;32m    500\u001b[0m         \u001b[38;5;66;03m# dtype check to exclude e.g. range objects, scalars\u001b[39;00m\n\u001b[0;32m    501\u001b[0m         arrays \u001b[38;5;241m=\u001b[39m [x\u001b[38;5;241m.\u001b[39mcopy() \u001b[38;5;28;01mif\u001b[39;00m \u001b[38;5;28mhasattr\u001b[39m(x, \u001b[38;5;124m\"\u001b[39m\u001b[38;5;124mdtype\u001b[39m\u001b[38;5;124m\"\u001b[39m) \u001b[38;5;28;01melse\u001b[39;00m x \u001b[38;5;28;01mfor\u001b[39;00m x \u001b[38;5;129;01min\u001b[39;00m arrays]\n\u001b[1;32m--> 503\u001b[0m \u001b[38;5;28;01mreturn\u001b[39;00m \u001b[43marrays_to_mgr\u001b[49m\u001b[43m(\u001b[49m\u001b[43marrays\u001b[49m\u001b[43m,\u001b[49m\u001b[43m \u001b[49m\u001b[43mcolumns\u001b[49m\u001b[43m,\u001b[49m\u001b[43m \u001b[49m\u001b[43mindex\u001b[49m\u001b[43m,\u001b[49m\u001b[43m \u001b[49m\u001b[43mdtype\u001b[49m\u001b[38;5;241;43m=\u001b[39;49m\u001b[43mdtype\u001b[49m\u001b[43m,\u001b[49m\u001b[43m \u001b[49m\u001b[43mtyp\u001b[49m\u001b[38;5;241;43m=\u001b[39;49m\u001b[43mtyp\u001b[49m\u001b[43m,\u001b[49m\u001b[43m \u001b[49m\u001b[43mconsolidate\u001b[49m\u001b[38;5;241;43m=\u001b[39;49m\u001b[43mcopy\u001b[49m\u001b[43m)\u001b[49m\n",
      "File \u001b[1;32mc:\\Users\\user\\AppData\\Local\\Programs\\Python\\Python311\\Lib\\site-packages\\pandas\\core\\internals\\construction.py:114\u001b[0m, in \u001b[0;36marrays_to_mgr\u001b[1;34m(arrays, columns, index, dtype, verify_integrity, typ, consolidate)\u001b[0m\n\u001b[0;32m    111\u001b[0m \u001b[38;5;28;01mif\u001b[39;00m verify_integrity:\n\u001b[0;32m    112\u001b[0m     \u001b[38;5;66;03m# figure out the index, if necessary\u001b[39;00m\n\u001b[0;32m    113\u001b[0m     \u001b[38;5;28;01mif\u001b[39;00m index \u001b[38;5;129;01mis\u001b[39;00m \u001b[38;5;28;01mNone\u001b[39;00m:\n\u001b[1;32m--> 114\u001b[0m         index \u001b[38;5;241m=\u001b[39m \u001b[43m_extract_index\u001b[49m\u001b[43m(\u001b[49m\u001b[43marrays\u001b[49m\u001b[43m)\u001b[49m\n\u001b[0;32m    115\u001b[0m     \u001b[38;5;28;01melse\u001b[39;00m:\n\u001b[0;32m    116\u001b[0m         index \u001b[38;5;241m=\u001b[39m ensure_index(index)\n",
      "File \u001b[1;32mc:\\Users\\user\\AppData\\Local\\Programs\\Python\\Python311\\Lib\\site-packages\\pandas\\core\\internals\\construction.py:677\u001b[0m, in \u001b[0;36m_extract_index\u001b[1;34m(data)\u001b[0m\n\u001b[0;32m    675\u001b[0m lengths \u001b[38;5;241m=\u001b[39m \u001b[38;5;28mlist\u001b[39m(\u001b[38;5;28mset\u001b[39m(raw_lengths))\n\u001b[0;32m    676\u001b[0m \u001b[38;5;28;01mif\u001b[39;00m \u001b[38;5;28mlen\u001b[39m(lengths) \u001b[38;5;241m>\u001b[39m \u001b[38;5;241m1\u001b[39m:\n\u001b[1;32m--> 677\u001b[0m     \u001b[38;5;28;01mraise\u001b[39;00m \u001b[38;5;167;01mValueError\u001b[39;00m(\u001b[38;5;124m\"\u001b[39m\u001b[38;5;124mAll arrays must be of the same length\u001b[39m\u001b[38;5;124m\"\u001b[39m)\n\u001b[0;32m    679\u001b[0m \u001b[38;5;28;01mif\u001b[39;00m have_dicts:\n\u001b[0;32m    680\u001b[0m     \u001b[38;5;28;01mraise\u001b[39;00m \u001b[38;5;167;01mValueError\u001b[39;00m(\n\u001b[0;32m    681\u001b[0m         \u001b[38;5;124m\"\u001b[39m\u001b[38;5;124mMixing dicts with non-Series may lead to ambiguous ordering.\u001b[39m\u001b[38;5;124m\"\u001b[39m\n\u001b[0;32m    682\u001b[0m     )\n",
      "\u001b[1;31mValueError\u001b[0m: All arrays must be of the same length"
     ]
    }
   ],
   "source": [
    "# Misalnya, prediksi materi untuk user berdasarkan interaksi mereka\n",
    "# Data interaksi yang relevan\n",
    "user_interaction = {\n",
    "    'user_id': [4, 4, 4, 4, 4, 4, 4, 4],\n",
    "    'question_id': [3, 4, 10, 14, 2, 19, 18],\n",
    "    'attempts': [1, 1, 1, 1, 1, 1, 1, 1],\n",
    "    'correct': [1, 1, 1, 0, 1, 1, 1, 1],\n",
    "    'duration': [59, 30, 35, 20, 20, 20, 20,20]\n",
    "}\n",
    "\n",
    "user_interaction_df = pd.DataFrame(user_interaction)\n",
    "user_interaction_df = user_interaction_df.merge(data[['question_id', 'materi']], on='question_id', how='left')\n",
    "\n",
    "# Hitung rata-rata kesalahan per materi\n",
    "user_error_data = user_interaction_df.groupby('materi').agg({\n",
    "    'attempts': 'mean',\n",
    "    'correct': 'mean',\n",
    "    'duration': 'mean'\n",
    "}).reset_index()\n",
    "\n",
    "user_error_data['avg_error_rate'] = 1 - user_error_data['correct']\n",
    "\n",
    "# Rekomendasikan materi dengan kesalahan tertinggi\n",
    "user_recommended_materials = user_error_data.sort_values(by='avg_error_rate', ascending=False).head(1)\n",
    "print(\"Materi yang perlu dipelajari oleh siswa:\")\n",
    "print(user_recommended_materials)\n"
   ]
  },
  {
   "cell_type": "code",
   "execution_count": null,
   "id": "323cf8e4-2219-4506-84fc-bc1ffbd36d47",
   "metadata": {
    "id": "323cf8e4-2219-4506-84fc-bc1ffbd36d47"
   },
   "outputs": [],
   "source": [
    "model.save('best_model.keras')"
   ]
  },
  {
   "cell_type": "code",
   "execution_count": null,
   "id": "4599e13d-32f6-4c6f-8037-c03f3a8fb8bb",
   "metadata": {
    "id": "4599e13d-32f6-4c6f-8037-c03f3a8fb8bb"
   },
   "outputs": [
    {
     "name": "stderr",
     "output_type": "stream",
     "text": [
      "WARNING:absl:You are saving your model as an HDF5 file via `model.save()` or `keras.saving.save_model(model)`. This file format is considered legacy. We recommend using instead the native Keras format, e.g. `model.save('my_model.keras')` or `keras.saving.save_model(model, 'my_model.keras')`. \n"
     ]
    }
   ],
   "source": [
    "model.save('best_model.h5')"
   ]
  },
  {
   "cell_type": "code",
   "execution_count": null,
   "id": "3fc80c98",
   "metadata": {},
   "outputs": [
    {
     "name": "stderr",
     "output_type": "stream",
     "text": [
      "WARNING:absl:Compiled the loaded model, but the compiled metrics have yet to be built. `model.compile_metrics` will be empty until you train or evaluate the model.\n"
     ]
    },
    {
     "name": "stdout",
     "output_type": "stream",
     "text": [
      "Input shape: (None, 2000)\n",
      "Input dtype: float32\n"
     ]
    }
   ],
   "source": [
    "# Load your trained model\n",
    "model = tf.keras.models.load_model('best_model.h5')\n",
    "\n",
    "# Memeriksa input shape dan dtype\n",
    "print(\"Input shape:\", model.input_shape)\n",
    "print(\"Input dtype:\", model.input_dtype)"
   ]
  },
  {
   "cell_type": "code",
   "execution_count": null,
   "id": "8949ff27",
   "metadata": {},
   "outputs": [
    {
     "name": "stderr",
     "output_type": "stream",
     "text": [
      "WARNING:absl:Compiled the loaded model, but the compiled metrics have yet to be built. `model.compile_metrics` will be empty until you train or evaluate the model.\n"
     ]
    },
    {
     "name": "stdout",
     "output_type": "stream",
     "text": [
      "INFO:tensorflow:Assets written to: C:\\Users\\user\\AppData\\Local\\Temp\\tmpdbdovyw7\\assets\n"
     ]
    },
    {
     "name": "stderr",
     "output_type": "stream",
     "text": [
      "INFO:tensorflow:Assets written to: C:\\Users\\user\\AppData\\Local\\Temp\\tmpdbdovyw7\\assets\n"
     ]
    },
    {
     "name": "stdout",
     "output_type": "stream",
     "text": [
      "Saved artifact at 'C:\\Users\\user\\AppData\\Local\\Temp\\tmpdbdovyw7'. The following endpoints are available:\n",
      "\n",
      "* Endpoint 'serve'\n",
      "  args_0 (POSITIONAL_ONLY): TensorSpec(shape=(None, 2000), dtype=tf.float32, name='input_layer')\n",
      "Output Type:\n",
      "  TensorSpec(shape=(None, 8), dtype=tf.float32, name=None)\n",
      "Captures:\n",
      "  2705647246928: TensorSpec(shape=(), dtype=tf.resource, name=None)\n",
      "  2705647254416: TensorSpec(shape=(), dtype=tf.resource, name=None)\n",
      "  2705647245584: TensorSpec(shape=(), dtype=tf.resource, name=None)\n",
      "  2705647255376: TensorSpec(shape=(), dtype=tf.resource, name=None)\n",
      "  2705647254800: TensorSpec(shape=(), dtype=tf.resource, name=None)\n",
      "  2705647249424: TensorSpec(shape=(), dtype=tf.resource, name=None)\n",
      "  2705649451472: TensorSpec(shape=(), dtype=tf.resource, name=None)\n",
      "  2705649452816: TensorSpec(shape=(), dtype=tf.resource, name=None)\n",
      "  2705649453200: TensorSpec(shape=(), dtype=tf.resource, name=None)\n",
      "  2705649451280: TensorSpec(shape=(), dtype=tf.resource, name=None)\n",
      "  2705649452240: TensorSpec(shape=(), dtype=tf.resource, name=None)\n",
      "  2705649453968: TensorSpec(shape=(), dtype=tf.resource, name=None)\n",
      "  2705649454352: TensorSpec(shape=(), dtype=tf.resource, name=None)\n",
      "  2705649455696: TensorSpec(shape=(), dtype=tf.resource, name=None)\n",
      "  2705649456272: TensorSpec(shape=(), dtype=tf.resource, name=None)\n",
      "  2705649456080: TensorSpec(shape=(), dtype=tf.resource, name=None)\n",
      "  2705649456464: TensorSpec(shape=(), dtype=tf.resource, name=None)\n",
      "  2705649457232: TensorSpec(shape=(), dtype=tf.resource, name=None)\n",
      "  2705649458384: TensorSpec(shape=(), dtype=tf.resource, name=None)\n",
      "  2705649458768: TensorSpec(shape=(), dtype=tf.resource, name=None)\n"
     ]
    }
   ],
   "source": [
    "\n",
    "import matplotlib.pyplot as plt\n",
    "import numpy as np\n",
    "import tensorflow as tf\n",
    "\n",
    "\n",
    "# Convert to TensorFlow Lite\n",
    "converter = tf.lite.TFLiteConverter.from_keras_model(model)\n",
    "tflite_model = converter.convert()\n",
    "\n",
    "# Save the model TFLite\n",
    "with open('best_model.tflite', 'wb') as f:\n",
    "    f.write(tflite_model)\n"
   ]
  },
  {
   "cell_type": "code",
   "execution_count": null,
   "id": "0ad55c1a",
   "metadata": {},
   "outputs": [
    {
     "name": "stdout",
     "output_type": "stream",
     "text": [
      "Prediction: [[0. 0. 0. 0. 0. 1. 0. 0.]]\n"
     ]
    }
   ],
   "source": [
    "import tensorflow as tf\n",
    "import numpy as np\n",
    "\n",
    "# Memuat model TFLite\n",
    "interpreter = tf.lite.Interpreter(model_path=\"model.tflite\")\n",
    "interpreter.allocate_tensors()\n",
    "\n",
    "# Mendapatkan detail input dan output\n",
    "input_details = interpreter.get_input_details()\n",
    "output_details = interpreter.get_output_details()\n",
    "\n",
    "# Buat input dummy (pastikan format sesuai dengan model)\n",
    "# Membuat data dummy dengan 1 sampel dan 2000 fitur\n",
    "input_data = np.random.rand(1, 2000).astype(np.float32)\n",
    "\n",
    "# Berikan data ke model\n",
    "interpreter.set_tensor(input_details[0]['index'], input_data)\n",
    "\n",
    "# Jalankan inferensi\n",
    "interpreter.invoke()\n",
    "\n",
    "# Ambil hasil prediksi\n",
    "output_data = interpreter.get_tensor(output_details[0]['index'])\n",
    "print(\"Prediction:\", output_data)\n"
   ]
  },
  {
   "cell_type": "code",
   "execution_count": null,
   "id": "3e8a2075",
   "metadata": {},
   "outputs": [],
   "source": []
  }
 ],
 "metadata": {
  "colab": {
   "provenance": []
  },
  "kernelspec": {
   "display_name": "Python 3",
   "language": "python",
   "name": "python3"
  },
  "language_info": {
   "codemirror_mode": {
    "name": "ipython",
    "version": 3
   },
   "file_extension": ".py",
   "mimetype": "text/x-python",
   "name": "python",
   "nbconvert_exporter": "python",
   "pygments_lexer": "ipython3",
   "version": "3.11.0"
  }
 },
 "nbformat": 4,
 "nbformat_minor": 5
}
